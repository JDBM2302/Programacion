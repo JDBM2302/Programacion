{
  "cells": [
    {
      "cell_type": "markdown",
      "metadata": {
        "id": "view-in-github",
        "colab_type": "text"
      },
      "source": [
        "<a href=\"https://colab.research.google.com/github/JDBM2302/Programacion/blob/main/notas/Cuaderno_Programacion.ipynb\" target=\"_parent\"><img src=\"https://colab.research.google.com/assets/colab-badge.svg\" alt=\"Open In Colab\"/></a>"
      ]
    },
    {
      "cell_type": "code",
      "execution_count": null,
      "metadata": {
        "colab": {
          "base_uri": "https://localhost:8080/"
        },
        "id": "TuHl_5-RWv1O",
        "outputId": "746151e3-13fe-48f0-accc-c6644b285fd1"
      },
      "outputs": [
        {
          "name": "stdout",
          "output_type": "stream",
          "text": [
            "Hola Mundo\n"
          ]
        }
      ],
      "source": [
        "# Mi primer codigo\n",
        "print(\"Hola Mundo\")\n",
        "\n",
        "\n"
      ]
    },
    {
      "cell_type": "markdown",
      "metadata": {
        "id": "FJx8FBYeZX4q"
      },
      "source": [
        "#Operaciones Matematicas.\n"
      ]
    },
    {
      "cell_type": "code",
      "execution_count": null,
      "metadata": {
        "colab": {
          "base_uri": "https://localhost:8080/"
        },
        "id": "-P_K9qK5ZbHP",
        "outputId": "98dac9bd-0ae2-4a5d-9007-0ca0ce4da8de"
      },
      "outputs": [
        {
          "name": "stdout",
          "output_type": "stream",
          "text": [
            "45\n",
            "Cuando hay varias lineas en un box, lo ideal es ponerle el print a cada renglon\n"
          ]
        }
      ],
      "source": [
        "# Suma:\n",
        "print(30 + 15)\n",
        "print(\"Cuando hay varias lineas en un box, lo ideal es ponerle el print a cada renglon\")\n"
      ]
    },
    {
      "cell_type": "code",
      "execution_count": null,
      "metadata": {
        "colab": {
          "base_uri": "https://localhost:8080/"
        },
        "id": "XEAqg36Hdl3U",
        "outputId": "bf1bd1f0-7d0f-4fbd-b939-69833671209b"
      },
      "outputs": [
        {
          "output_type": "stream",
          "name": "stdout",
          "text": [
            "var_1 = int(80)\n",
            "var_2 = float(87.2)\n"
          ]
        }
      ],
      "source": [
        "print(\"var_1 = int(80)\")\n",
        "print(\"var_2 = float(87.2)\")\n",
        "\n",
        "\n"
      ]
    },
    {
      "cell_type": "code",
      "execution_count": null,
      "metadata": {
        "colab": {
          "base_uri": "https://localhost:8080/",
          "height": 159
        },
        "id": "0ZntkKTQfH0U",
        "outputId": "8c256142-08bb-455a-a04a-96eb6757f36b"
      },
      "outputs": [
        {
          "output_type": "error",
          "ename": "NameError",
          "evalue": "name 'var_2' is not defined",
          "traceback": [
            "\u001b[0;31m---------------------------------------------------------------------------\u001b[0m",
            "\u001b[0;31mNameError\u001b[0m                                 Traceback (most recent call last)",
            "\u001b[0;32m<ipython-input-5-3f96617c379e>\u001b[0m in \u001b[0;36m<cell line: 1>\u001b[0;34m()\u001b[0m\n\u001b[0;32m----> 1\u001b[0;31m \u001b[0mvar_2\u001b[0m\u001b[0;34m*\u001b[0m\u001b[0;36m15\u001b[0m\u001b[0;34m\u001b[0m\u001b[0;34m\u001b[0m\u001b[0m\n\u001b[0m\u001b[1;32m      2\u001b[0m \u001b[0;34m\u001b[0m\u001b[0m\n",
            "\u001b[0;31mNameError\u001b[0m: name 'var_2' is not defined"
          ]
        }
      ],
      "source": [
        "var_2*15\n",
        "\n"
      ]
    },
    {
      "cell_type": "code",
      "execution_count": null,
      "metadata": {
        "colab": {
          "base_uri": "https://localhost:8080/"
        },
        "id": "qcoDOu6WgKr0",
        "outputId": "bd67b2d4-15c0-44e6-e4f8-8c83f1033e0c"
      },
      "outputs": [
        {
          "name": "stdout",
          "output_type": "stream",
          "text": [
            "Lucia\n"
          ]
        }
      ],
      "source": [
        "nombre = input()\n"
      ]
    },
    {
      "cell_type": "code",
      "execution_count": null,
      "metadata": {
        "colab": {
          "base_uri": "https://localhost:8080/",
          "height": 35
        },
        "id": "t_LqSIE1gcGL",
        "outputId": "953ca6d2-f3a2-4035-9695-883748e1e217"
      },
      "outputs": [
        {
          "data": {
            "application/vnd.google.colaboratory.intrinsic+json": {
              "type": "string"
            },
            "text/plain": [
              "'Lucia'"
            ]
          },
          "execution_count": 46,
          "metadata": {},
          "output_type": "execute_result"
        }
      ],
      "source": [
        "nombre"
      ]
    },
    {
      "cell_type": "code",
      "execution_count": null,
      "metadata": {
        "colab": {
          "base_uri": "https://localhost:8080/"
        },
        "id": "yN0c1QFAg1i0",
        "outputId": "1c874e06-b09c-4adc-d31c-9a2d0e41b46e"
      },
      "outputs": [
        {
          "data": {
            "text/plain": [
              "str"
            ]
          },
          "execution_count": 47,
          "metadata": {},
          "output_type": "execute_result"
        }
      ],
      "source": [
        "type(nombre)\n"
      ]
    },
    {
      "cell_type": "markdown",
      "metadata": {
        "id": "v91fGj_s-vay"
      },
      "source": [
        "Es importante decirle a las personas que deben ingresar. Así también nosotros sabemos como etiquetarlos para procesarlos. Ejm: nombre= str - Edad=enteros\n"
      ]
    },
    {
      "cell_type": "markdown",
      "metadata": {
        "id": "CFBnbQo5_Oc7"
      },
      "source": []
    },
    {
      "cell_type": "markdown",
      "metadata": {
        "id": "QjVoEV3e_m5D"
      },
      "source": [
        "**SALIDAS**\n"
      ]
    },
    {
      "cell_type": "code",
      "execution_count": null,
      "metadata": {
        "colab": {
          "base_uri": "https://localhost:8080/",
          "height": 106
        },
        "id": "KvpFsDbyAfhx",
        "outputId": "15f1e678-b7fd-439d-823e-fcc76694820b"
      },
      "outputs": [
        {
          "ename": "SyntaxError",
          "evalue": "incomplete input (<ipython-input-4-4bd9b0a7865c>, line 2)",
          "output_type": "error",
          "traceback": [
            "\u001b[0;36m  File \u001b[0;32m\"<ipython-input-4-4bd9b0a7865c>\"\u001b[0;36m, line \u001b[0;32m2\u001b[0m\n\u001b[0;31m    edad= int(input(\"Ingrese su edad: \")\u001b[0m\n\u001b[0m                                        ^\u001b[0m\n\u001b[0;31mSyntaxError\u001b[0m\u001b[0;31m:\u001b[0m incomplete input\n"
          ]
        }
      ],
      "source": [
        "nombre= input(\"escriba su nombre: \")\n",
        "edad= int(input(\"Ingrese su edad: \")"
      ]
    },
    {
      "cell_type": "markdown",
      "metadata": {
        "id": "i8sxzrJ4_7a6"
      },
      "source": [
        "Se pueden usar cadenas de caracteristicas con un profijo f, así: f\"mensaje\""
      ]
    },
    {
      "cell_type": "code",
      "execution_count": null,
      "metadata": {
        "colab": {
          "base_uri": "https://localhost:8080/",
          "height": 141
        },
        "collapsed": true,
        "id": "zTrL6OliAPf6",
        "outputId": "a625e719-744d-470b-90f4-df2e5b012031"
      },
      "outputs": [
        {
          "ename": "NameError",
          "evalue": "name 'nombre' is not defined",
          "output_type": "error",
          "traceback": [
            "\u001b[0;31m---------------------------------------------------------------------------\u001b[0m",
            "\u001b[0;31mNameError\u001b[0m                                 Traceback (most recent call last)",
            "\u001b[0;32m<ipython-input-1-381f20620f1d>\u001b[0m in \u001b[0;36m<cell line: 1>\u001b[0;34m()\u001b[0m\n\u001b[0;32m----> 1\u001b[0;31m \u001b[0mprint\u001b[0m\u001b[0;34m(\u001b[0m\u001b[0;34mf\"la edad de {nombre}es {edad}años\"\u001b[0m\u001b[0;34m)\u001b[0m\u001b[0;34m\u001b[0m\u001b[0;34m\u001b[0m\u001b[0m\n\u001b[0m",
            "\u001b[0;31mNameError\u001b[0m: name 'nombre' is not defined"
          ]
        }
      ],
      "source": [
        "print(f\"la edad de {nombre}es {edad}años\")\n"
      ]
    },
    {
      "cell_type": "markdown",
      "metadata": {
        "id": "DpQrY4R0DwEJ"
      },
      "source": [
        "ASIGNACION MULTIPLE DE VARIABLES\n"
      ]
    },
    {
      "cell_type": "code",
      "execution_count": null,
      "metadata": {
        "collapsed": true,
        "id": "nTM9RLj7E_03",
        "colab": {
          "base_uri": "https://localhost:8080/"
        },
        "outputId": "11de3179-205a-452d-b389-86ebbda15d3a"
      },
      "outputs": [
        {
          "output_type": "stream",
          "name": "stdout",
          "text": [
            "a= 10 y b=20\n",
            "a=20 y b=10\n"
          ]
        }
      ],
      "source": [
        "#Variables\n",
        "a = 10\n",
        "b = 20\n",
        "#Muestra el contenido de cada variable\n",
        "print(f\"a= {a} y b={b}\")\n",
        "\n",
        "#Pasos para intercambiar los valores\n",
        "a = a + b\n",
        "b = a - b\n",
        "a = a - b\n",
        "#Muestre nuevamente el contenido de cada variable\n",
        "print(f\"a={a} y b={b}\")\n",
        "\n",
        "\n",
        "\n"
      ]
    },
    {
      "cell_type": "markdown",
      "metadata": {
        "id": "pcpUEKK6IPch"
      },
      "source": [
        "FUNCIONES PREDETERMINADAS\n",
        "\n",
        "Son funciones que ya estan prediseñadas"
      ]
    },
    {
      "cell_type": "markdown",
      "metadata": {
        "id": "wCFNQ4LDD3qA"
      },
      "source": []
    },
    {
      "cell_type": "code",
      "execution_count": null,
      "metadata": {
        "colab": {
          "base_uri": "https://localhost:8080/"
        },
        "collapsed": true,
        "id": "ua56Ez1mJwhK",
        "outputId": "4ac81074-6c56-4615-95d1-b0fd593d911e"
      },
      "outputs": [
        {
          "data": {
            "text/plain": [
              "(1852, 1)"
            ]
          },
          "execution_count": 26,
          "metadata": {},
          "output_type": "execute_result"
        }
      ],
      "source": [
        "resultado = divmod(abs(pow(-21,3)), 5)\n",
        "resultado\n",
        "resultado [0]\n",
        "resultado [1]\n",
        "resultado"
      ]
    },
    {
      "cell_type": "markdown",
      "metadata": {
        "id": "II1zgQrIOPsF"
      },
      "source": [
        "EJERCICIO 3\n"
      ]
    },
    {
      "cell_type": "code",
      "source": [
        "a = float(input(\"Ingrese el valor a convertir: \"))\n",
        "b = float(input(\"Ingrese TRM: \"))\n",
        "c = a/ b\n",
        "\n"
      ],
      "metadata": {
        "colab": {
          "base_uri": "https://localhost:8080/",
          "height": 339
        },
        "id": "1me8AJa5PLh8",
        "outputId": "9394443e-962c-4801-995a-43b25cee3469"
      },
      "execution_count": null,
      "outputs": [
        {
          "output_type": "error",
          "ename": "KeyboardInterrupt",
          "evalue": "Interrupted by user",
          "traceback": [
            "\u001b[0;31m---------------------------------------------------------------------------\u001b[0m",
            "\u001b[0;31mKeyboardInterrupt\u001b[0m                         Traceback (most recent call last)",
            "\u001b[0;32m<ipython-input-9-a1cd0705c613>\u001b[0m in \u001b[0;36m<cell line: 1>\u001b[0;34m()\u001b[0m\n\u001b[0;32m----> 1\u001b[0;31m \u001b[0ma\u001b[0m \u001b[0;34m=\u001b[0m \u001b[0mfloat\u001b[0m\u001b[0;34m(\u001b[0m\u001b[0minput\u001b[0m\u001b[0;34m(\u001b[0m\u001b[0;34m\"Ingrese el valor a convertir: \"\u001b[0m\u001b[0;34m)\u001b[0m\u001b[0;34m)\u001b[0m\u001b[0;34m\u001b[0m\u001b[0;34m\u001b[0m\u001b[0m\n\u001b[0m\u001b[1;32m      2\u001b[0m \u001b[0mb\u001b[0m \u001b[0;34m=\u001b[0m \u001b[0mfloat\u001b[0m\u001b[0;34m(\u001b[0m\u001b[0minput\u001b[0m\u001b[0;34m(\u001b[0m\u001b[0;34m\"Ingrese TRM: \"\u001b[0m\u001b[0;34m)\u001b[0m\u001b[0;34m)\u001b[0m\u001b[0;34m\u001b[0m\u001b[0;34m\u001b[0m\u001b[0m\n\u001b[1;32m      3\u001b[0m \u001b[0mc\u001b[0m \u001b[0;34m=\u001b[0m \u001b[0ma\u001b[0m\u001b[0;34m/\u001b[0m \u001b[0mb\u001b[0m\u001b[0;34m\u001b[0m\u001b[0;34m\u001b[0m\u001b[0m\n\u001b[1;32m      4\u001b[0m \u001b[0;34m\u001b[0m\u001b[0m\n",
            "\u001b[0;32m/usr/local/lib/python3.10/dist-packages/ipykernel/kernelbase.py\u001b[0m in \u001b[0;36mraw_input\u001b[0;34m(self, prompt)\u001b[0m\n\u001b[1;32m    849\u001b[0m                 \u001b[0;34m\"raw_input was called, but this frontend does not support input requests.\"\u001b[0m\u001b[0;34m\u001b[0m\u001b[0;34m\u001b[0m\u001b[0m\n\u001b[1;32m    850\u001b[0m             )\n\u001b[0;32m--> 851\u001b[0;31m         return self._input_request(str(prompt),\n\u001b[0m\u001b[1;32m    852\u001b[0m             \u001b[0mself\u001b[0m\u001b[0;34m.\u001b[0m\u001b[0m_parent_ident\u001b[0m\u001b[0;34m,\u001b[0m\u001b[0;34m\u001b[0m\u001b[0;34m\u001b[0m\u001b[0m\n\u001b[1;32m    853\u001b[0m             \u001b[0mself\u001b[0m\u001b[0;34m.\u001b[0m\u001b[0m_parent_header\u001b[0m\u001b[0;34m,\u001b[0m\u001b[0;34m\u001b[0m\u001b[0;34m\u001b[0m\u001b[0m\n",
            "\u001b[0;32m/usr/local/lib/python3.10/dist-packages/ipykernel/kernelbase.py\u001b[0m in \u001b[0;36m_input_request\u001b[0;34m(self, prompt, ident, parent, password)\u001b[0m\n\u001b[1;32m    893\u001b[0m             \u001b[0;32mexcept\u001b[0m \u001b[0mKeyboardInterrupt\u001b[0m\u001b[0;34m:\u001b[0m\u001b[0;34m\u001b[0m\u001b[0;34m\u001b[0m\u001b[0m\n\u001b[1;32m    894\u001b[0m                 \u001b[0;31m# re-raise KeyboardInterrupt, to truncate traceback\u001b[0m\u001b[0;34m\u001b[0m\u001b[0;34m\u001b[0m\u001b[0m\n\u001b[0;32m--> 895\u001b[0;31m                 \u001b[0;32mraise\u001b[0m \u001b[0mKeyboardInterrupt\u001b[0m\u001b[0;34m(\u001b[0m\u001b[0;34m\"Interrupted by user\"\u001b[0m\u001b[0;34m)\u001b[0m \u001b[0;32mfrom\u001b[0m \u001b[0;32mNone\u001b[0m\u001b[0;34m\u001b[0m\u001b[0;34m\u001b[0m\u001b[0m\n\u001b[0m\u001b[1;32m    896\u001b[0m             \u001b[0;32mexcept\u001b[0m \u001b[0mException\u001b[0m \u001b[0;32mas\u001b[0m \u001b[0me\u001b[0m\u001b[0;34m:\u001b[0m\u001b[0;34m\u001b[0m\u001b[0;34m\u001b[0m\u001b[0m\n\u001b[1;32m    897\u001b[0m                 \u001b[0mself\u001b[0m\u001b[0;34m.\u001b[0m\u001b[0mlog\u001b[0m\u001b[0;34m.\u001b[0m\u001b[0mwarning\u001b[0m\u001b[0;34m(\u001b[0m\u001b[0;34m\"Invalid Message:\"\u001b[0m\u001b[0;34m,\u001b[0m \u001b[0mexc_info\u001b[0m\u001b[0;34m=\u001b[0m\u001b[0;32mTrue\u001b[0m\u001b[0;34m)\u001b[0m\u001b[0;34m\u001b[0m\u001b[0;34m\u001b[0m\u001b[0m\n",
            "\u001b[0;31mKeyboardInterrupt\u001b[0m: Interrupted by user"
          ]
        }
      ]
    },
    {
      "cell_type": "code",
      "source": [
        "#Variables\n",
        "a = 10\n",
        "b = 7\n",
        "c= 3\n",
        "# Muestra el contenido de cada variable\n",
        "print(f\"a={a}, b={b} y c={c}\" )\n",
        "\n",
        "# punto 1\n",
        "print(f\"la suma de b + c es {b + c} que es igual a a={a} \")\n",
        "# punto 2\n",
        "print(f\"la resta de a - c es {a-c}  que es igual a b= {b} \")\n",
        "#punto 3\n",
        "print(f\"b={b} no es > que a={a}\")\n",
        "#punto 4\n",
        "print(f\"c={c} es < que a={a}\")\n",
        "#punto 5\n",
        "print(f\"a*b es igual a {a*b} que es mayor que c={c}\")\n",
        "#punto 6\n",
        "print(f\"2*a es igual a {2*a} que es menor que b*c que es igual a {b*c}\")\n"
      ],
      "metadata": {
        "colab": {
          "base_uri": "https://localhost:8080/"
        },
        "id": "AsOza8W7sbGq",
        "outputId": "69e79da6-5635-4e2d-cd7f-85c479cc6f07"
      },
      "execution_count": null,
      "outputs": [
        {
          "output_type": "stream",
          "name": "stdout",
          "text": [
            "a=10, b=7 y c=3\n",
            "la suma de b + c es 10 que es igual a a=10 \n",
            "la resta de a - c es 7  que es igual a b= 7 \n",
            "b=7 no es > que a=10\n",
            "c=3 es < que a=10\n",
            "a*b es igual a 70 que es mayor que c=3\n",
            "2*a es igual a 20 que es menor que b*c que es igual a 21\n"
          ]
        }
      ]
    },
    {
      "cell_type": "code",
      "source": [
        "import random # importa la libreria random\n",
        "\n",
        "nombre = input(\"¿Cuál es su nombre?:    \") # Obtener el nombre del usuario\n",
        "\n",
        "aleatorio = random.randint(1, 10) # Genera un número aletaorio entero entre 1 y 10\n",
        "jugador = int(input(\"Ingrese un número entero entre 1 y 10: \")) # Pregunta un número al usuario\n",
        "\n",
        "print(f'\\nPC generó el número número: {aleatorio}')\n",
        "print(f'{nombre}, ingresaste el número: {jugador}')\n",
        "\n",
        "print(f\"\\n{nombre} ganaste! 🙂 \"if jugador == aleatorio else 'perdiste! 🙁')\n",
        "\n",
        "\n"
      ],
      "metadata": {
        "colab": {
          "base_uri": "https://localhost:8080/"
        },
        "id": "uojlENL8CXEZ",
        "outputId": "866f8cc4-02c2-4b4f-b77c-58202d30bb9a"
      },
      "execution_count": null,
      "outputs": [
        {
          "output_type": "stream",
          "name": "stdout",
          "text": [
            "¿Cuál es su nombre?:    Daniel\n",
            "Ingrese un número entero entre 1 y 10: 10\n",
            "\n",
            "PC generó el número número: 6\n",
            "Daniel, ingresaste el número: 10\n",
            "perdiste! 🙁\n"
          ]
        }
      ]
    },
    {
      "cell_type": "markdown",
      "source": [
        "EJERCICIOS 2.2\n",
        "\n",
        "Ejercicio 8\n",
        "\n",
        "Considere un programa que dados dos números, el primero de ellos correspondiente al número total de kilos que deben empacarse en caja(a = 207kg) y la capacidad en kilos de cada caja (b = 12 kilos).\n",
        "\n",
        "Calcule el número de cajas necesarias para empacar toda la mercancía.\n",
        "Calcule la cantidad que quedaría sin empacar si solo pueden despacharse cajas completas.\n",
        "Determine el número de cajas necesarias para empacar toda la mercancía"
      ],
      "metadata": {
        "id": "BSI63ZV8AlXT"
      }
    },
    {
      "cell_type": "code",
      "source": [
        "# Librería de funciones matemáticas para números reales\n",
        "import math\n",
        "# Calcule aquí las cantidades solicitadas\n",
        "a = 207\n",
        "b = 12\n",
        "\n",
        "cajas = 207/12\n",
        "print(\"Número de cajas: \", cajas)\n",
        "\n",
        "\n",
        "empacado = 17*12\n",
        "sin_empacar = a - empacado\n",
        "print(\"\")\n",
        "print(\"Cantidad empacada: \", empacado)\n",
        "print(\"\")\n",
        "print(\"Cantidad sin empacadar: \", sin_empacar)"
      ],
      "metadata": {
        "colab": {
          "base_uri": "https://localhost:8080/"
        },
        "id": "gFIgGrgRA3iT",
        "outputId": "b0458cc7-061a-474f-fe0e-de5f85813f2d"
      },
      "execution_count": null,
      "outputs": [
        {
          "output_type": "stream",
          "name": "stdout",
          "text": [
            "Número de cajas:  17.25\n",
            "\n",
            "Cantidad empacada:  204\n",
            "\n",
            "Cantidad sin empacadar:  3\n"
          ]
        }
      ]
    },
    {
      "cell_type": "markdown",
      "source": [
        "Ejercicio Paracaidas"
      ],
      "metadata": {
        "id": "Z6beAOlyLneF"
      }
    },
    {
      "cell_type": "code",
      "source": [
        "# Librería de funciones matemáticas para números reales\n",
        "import math\n",
        "\n",
        "# Entradas:\n",
        "m = float(input('Masa del paracaidista [kg]:    '))\n",
        "C = float(input('Coeficiente de arrastre aerodinámico [Ns/m]:    '))\n",
        "t = float(input('Tiempo de caída [s]:    '))\n",
        "\n",
        "# Variable que ya está establecida\n",
        "g = 9.81\n",
        "\n",
        "#Ecuación\n",
        "V = ((m * g) / C) * (1 - math.exp(-(C/m) * t))\n",
        "\n",
        "#respuesta\n",
        "print('\\nLa velocidad del paracaidista a los %.2f [s] es %.2f [m/s]' % (t,V))"
      ],
      "metadata": {
        "colab": {
          "base_uri": "https://localhost:8080/"
        },
        "id": "3PZeVQfBDPwT",
        "outputId": "3232c094-a1f3-4367-e4cf-003156a2c850"
      },
      "execution_count": null,
      "outputs": [
        {
          "output_type": "stream",
          "name": "stdout",
          "text": [
            "Masa del paracaidista [kg]:    70\n",
            "Coeficiente de arrastre aerodinámico [Ns/m]:    1\n",
            "Tiempo de caída [s]:    20\n",
            "\n",
            "La velocidad del paracaidista a los 20.00 [s] es 170.66 [m/s]\n"
          ]
        }
      ]
    },
    {
      "cell_type": "markdown",
      "source": [
        "EJERCICIO IMC"
      ],
      "metadata": {
        "id": "K67crQjELrxJ"
      }
    },
    {
      "cell_type": "code",
      "source": [
        "# Solicitar al usuario su nombre, estatura y peso\n",
        "nombre = input(\"Introduce tu nombre: \")\n",
        "estatura = float(input(\"Introduce tu estatura en metros (m): \"))\n",
        "peso = float(input(\"Introduce tu peso en kilogramos (kg): \"))\n",
        "\n",
        "# Calcular el índice de masa corporal (IMC)\n",
        "if estatura <= 0:\n",
        "    raise ValueError(\"La estatura debe ser mayor que cero.\")\n",
        "if peso <= 0:\n",
        "    raise ValueError(\"El peso debe ser mayor que cero.\")\n",
        "\n",
        "imc = peso / (estatura ** 2)\n",
        "\n",
        "# Generar un mensaje con el índice de masa corporal\n",
        "print(f\"\\nHola {nombre}, tu índice de masa corporal (IMC) es: {imc:.2f}\")\n",
        "\n",
        "# Opcional: Mensaje sobre la condición saludable óptima\n",
        "if 18.5 <= imc <= 24.9:\n",
        "    print(\"¡Estás en una condición saludable óptima! 🙂\")\n",
        "else:\n",
        "    print(\"Tu IMC no está en el rango óptimo de salud. 🙁 Te sugerimos consultar una dieta más saludable\")"
      ],
      "metadata": {
        "colab": {
          "base_uri": "https://localhost:8080/"
        },
        "id": "y-GPG36HM2yj",
        "outputId": "c80b53e6-1aa7-470d-e14d-d6986e908a59"
      },
      "execution_count": null,
      "outputs": [
        {
          "output_type": "stream",
          "name": "stdout",
          "text": [
            "Introduce tu nombre: Daniel\n",
            "Introduce tu estatura en metros (m): 1.78\n",
            "Introduce tu peso en kilogramos (kg): 69\n",
            "\n",
            "Hola Daniel, tu índice de masa corporal (IMC) es: 21.78\n",
            "¡Estás en una condición saludable óptima! 🙂\n"
          ]
        }
      ]
    },
    {
      "cell_type": "markdown",
      "source": [
        "EJERCICIO 1"
      ],
      "metadata": {
        "id": "S17kSGMJZf-l"
      }
    },
    {
      "cell_type": "code",
      "source": [
        "import random\n",
        "\n",
        "m = int(input(\"Cuantas vocales quieres para tu contraseña: \"))\n",
        "n = int(input(\"Cuantos numeros quieres para tu contraseña del 0 al 9: \"))\n",
        "\n",
        "vocales = \"aeiou\"\n",
        "numeros = \"0123456789\"\n",
        "\n",
        "generacion_vocales = random.sample(vocales, m)\n",
        "generacion_numeros = random.sample(numeros, n)\n",
        "\n",
        "secuencia = generacion_vocales + generacion_numeros\n",
        "random.shuffle(secuencia)\n",
        "\n",
        "contrasena = \"\".join(secuencia)\n",
        "\n",
        "print(contrasena)\n",
        "\n",
        "\n",
        "\n"
      ],
      "metadata": {
        "colab": {
          "base_uri": "https://localhost:8080/"
        },
        "id": "119aHqQmaIJc",
        "outputId": "208aaae0-986e-4c71-cd3a-badc41b7a2a2"
      },
      "execution_count": null,
      "outputs": [
        {
          "output_type": "stream",
          "name": "stdout",
          "text": [
            "Cuantas vocales quieres para tu contraseña: 3\n",
            "Cuantos numeros quieres para tu contraseña del 0 al 9: 7\n",
            "4o37125iu8\n"
          ]
        }
      ]
    },
    {
      "cell_type": "markdown",
      "source": [
        "El sample tiene funciones importantes para identificar que cada caracter es de forma independiente, para que al momento que le demos el numero m, el vaya a los valores de la variable y los extraiga de forma aleatoria.\n",
        "\n",
        "random.shuffle lo que hace es mezclarlos porque tenemos dos caracteres que estamos concatenando, es decir que mezcle los numeros con las letras.\n",
        "\n"
      ],
      "metadata": {
        "id": "BqAk4oSFgyWF"
      }
    },
    {
      "cell_type": "markdown",
      "source": [
        "lower. transforma las mayusculas en minusculas\n",
        "\n",
        "upper. Transforma las minusculas en mayusculas"
      ],
      "metadata": {
        "id": "rfcRsWmzlat5"
      }
    },
    {
      "cell_type": "code",
      "source": [
        "a = 5\n",
        "x = a < 3\n"
      ],
      "metadata": {
        "id": "WG_R5LhmLG22"
      },
      "execution_count": null,
      "outputs": []
    },
    {
      "cell_type": "code",
      "source": [
        "type(x)"
      ],
      "metadata": {
        "colab": {
          "base_uri": "https://localhost:8080/"
        },
        "id": "DU0eruk8LO3T",
        "outputId": "f469848d-986e-42d0-f1b9-e6bc6a74c663"
      },
      "execution_count": null,
      "outputs": [
        {
          "output_type": "execute_result",
          "data": {
            "text/plain": [
              "bool"
            ]
          },
          "metadata": {},
          "execution_count": 4
        }
      ]
    },
    {
      "cell_type": "markdown",
      "source": [
        "LISTAS\n",
        "\n",
        "Es una estructura de datos, van a contener diferentes tipos de datos.\n",
        "Son vectores que cuando operamos tienen una logica.\n",
        "\n",
        "\n",
        "lista = [1, 2, 3] esta es la estructura de una lista.\n",
        "\n",
        "\n",
        "Heterogenea es que podemos incluir datos de diferentes tipos.\n",
        "\n",
        "También puede tener caracteristicas de tipo Bool y listas dentro de otras listas.\n",
        "\n",
        "lista = [1, 3.8,[3, 'Juan', False], 'carlos']\n",
        "\n",
        "Ingreso de listas desde teclado con el comando input\n",
        "\n",
        "PARA METER UNA LISTA DENTRO DE UN IMPUT\n",
        "\n",
        "lista = input('Ingrese una lista usando corchetes: ')\n",
        "print(lista, \" es de tipo \", type(lista))\n",
        "\n",
        "\n",
        "lista = input('Ingrese una lista usando corchetes: ')\n",
        "lista = eval(lista)\n",
        "print(lista, \" es de tipo \", type(lista))\n",
        "\n",
        "funcion eval.\n",
        "\n",
        "COMO HACERLO MÁS FACIL PARA LOS USUARIOS:\n",
        "\n",
        "lista = eval('[' + input('Ingrese una secuenca de elementos separado por comas: ') + ']')\n",
        "print(lista, \" es de tipo \", type(lista))\n",
        "\n",
        "\n"
      ],
      "metadata": {
        "id": "SLRQ3JD0DaOQ"
      }
    },
    {
      "cell_type": "markdown",
      "source": [
        "Comando list()\n",
        "rango = range(1,10)\n",
        "lista = list(rango)\n",
        "print(rango) # imprime el rango\n",
        "print(lista) # imprime la lista\n",
        "\n",
        "En el rango el 10 no es incluyente.\n",
        "\n",
        "METODO SPLIT\n",
        "\n",
        "texto = 'Curso de algoritmos y programación'\n",
        "\n",
        "lista = texto.split()\n",
        "lista\n",
        "\n",
        "CON ESTE METODO DIVIDE LA LISTA POR PALABRAS COMPLETAS.\n",
        "\n"
      ],
      "metadata": {
        "id": "dmMcEdxKGZV4"
      }
    },
    {
      "cell_type": "code",
      "source": [
        "# lista = list(texto)\n",
        "texto =\"Juan Daniel Bedoya\"\n",
        "\n",
        "lista = texto.split()\n",
        "print(lista)\n",
        "\n",
        "\n"
      ],
      "metadata": {
        "colab": {
          "base_uri": "https://localhost:8080/"
        },
        "id": "LQGPzatAHn0o",
        "outputId": "d9b7d086-8745-4601-ad64-5c81312f80a1"
      },
      "execution_count": null,
      "outputs": [
        {
          "output_type": "stream",
          "name": "stdout",
          "text": [
            "['Juan', 'Daniel', 'Bedoya']\n"
          ]
        }
      ]
    },
    {
      "cell_type": "code",
      "source": [],
      "metadata": {
        "id": "ZdzmNmEvKFoI"
      },
      "execution_count": null,
      "outputs": []
    },
    {
      "cell_type": "markdown",
      "source": [
        "INDEXACIÓN DE LISTAS.\n",
        "\n",
        "Es cuando sacamos posiciones de datos dentro de una lista.\n",
        "\n"
      ],
      "metadata": {
        "id": "HBcQh1DDKPpJ"
      }
    },
    {
      "cell_type": "code",
      "source": [
        "lista= [1, 2, 3, 4, 5, 6, 7, 8, 9, 10, 11, 12, 13, 14, 15, 16, 17, 18, 19, 20, 21]\n",
        "lista[:5]"
      ],
      "metadata": {
        "id": "8j0v_XUDLFaX"
      },
      "execution_count": null,
      "outputs": []
    },
    {
      "cell_type": "code",
      "source": [
        "lista[1:11:3] # obtenemos los elementos entre la segunda y la onceava posición en pasos de 3\n"
      ],
      "metadata": {
        "id": "lYKvyPDFLGVP"
      },
      "execution_count": null,
      "outputs": []
    },
    {
      "cell_type": "markdown",
      "source": [],
      "metadata": {
        "id": "llOcMHhbLIkv"
      }
    },
    {
      "cell_type": "code",
      "source": [
        "lista = [[\"Algoritmos\", [3.5, 4, 5]], [\"Simulación\", [3, 3.5, 5]]]\n",
        "lista[1][1][2]"
      ],
      "metadata": {
        "id": "zQtjBA8wLzH_"
      },
      "execution_count": null,
      "outputs": []
    },
    {
      "cell_type": "markdown",
      "source": [
        "Hay que tener muy claro que dato traemos para saber como se puede operar.\n"
      ],
      "metadata": {
        "id": "9TM3wHdBMv7S"
      }
    },
    {
      "cell_type": "code",
      "source": [
        "\n",
        "\n",
        "\n",
        "lista = [\"Juan\",\"Daniel\",\"Bedoya\",\"Meneses\"]\n",
        "lista[0][0]"
      ],
      "metadata": {
        "id": "hY3GvNecM2P-",
        "colab": {
          "base_uri": "https://localhost:8080/",
          "height": 36
        },
        "outputId": "56294afe-9988-49f2-f738-fa04fd1d5ded"
      },
      "execution_count": null,
      "outputs": [
        {
          "output_type": "execute_result",
          "data": {
            "text/plain": [
              "'J'"
            ],
            "application/vnd.google.colaboratory.intrinsic+json": {
              "type": "string"
            }
          },
          "metadata": {},
          "execution_count": 24
        }
      ]
    },
    {
      "cell_type": "code",
      "source": [
        "nombre = input(\"Ingrese su nombre: \")\n",
        "elementos = nombre.split()\n",
        "extraccion = elementos [0][0] + elementos[1][0] + elementos [2][0]\n",
        "mayusculas = extraccion.upper()\n",
        "print(extraccion)"
      ],
      "metadata": {
        "colab": {
          "base_uri": "https://localhost:8080/"
        },
        "id": "EzCKF3bzPxfn",
        "outputId": "e66e22e7-7207-4e42-e922-87a4e9127a84"
      },
      "execution_count": null,
      "outputs": [
        {
          "output_type": "stream",
          "name": "stdout",
          "text": [
            "Ingrese su nombre: juan daniel bedoya\n",
            "jdb\n"
          ]
        }
      ]
    },
    {
      "cell_type": "code",
      "source": [
        "lista = [[\"Algoritmos\", [3.5, 4, 5]],\n",
        "         [\"Simulación\", [3, 3.5, 5]]]\n",
        "\n",
        "lista_2 = lista[0][1] + lista[1][1]\n",
        "lista_2\n",
        "min(lista_2)\n",
        "\n"
      ],
      "metadata": {
        "colab": {
          "base_uri": "https://localhost:8080/"
        },
        "id": "S1S7gznfViLX",
        "outputId": "bc6f4179-1312-4f49-c5b6-083b0fe71f37"
      },
      "execution_count": null,
      "outputs": [
        {
          "output_type": "execute_result",
          "data": {
            "text/plain": [
              "3"
            ]
          },
          "metadata": {},
          "execution_count": 37
        }
      ]
    },
    {
      "cell_type": "markdown",
      "source": [
        "TUPLAS\n",
        "\n",
        "Una tupla es una estructura de datos que permite almacenar una secuencia ordenada. Es similar a una lista, puesto que permite almacenar elementos hetereogéneos. Sin embargo, la gran diferencia es que las tuplas son inmutables. Es decir, no es posible modificar una tupla después de haber sido creada. No se pueden cambiar sus elementos de forma individual, ni se puede cambiar su tamaño.\n",
        "\n",
        "Su carácter inmutable da seguridad a los datos que se almacenan en tuplas.\n",
        "\n",
        "Una tupla se hace con parentesis y una lista se hace con corchetes\n",
        "\n",
        "Para crear una tupla se deben tener varios datos.\n",
        "Se puede utilizar la funcion range\n",
        "\n"
      ],
      "metadata": {
        "id": "by6Mfp55HK3M"
      }
    },
    {
      "cell_type": "code",
      "source": [
        "tupla = tuple(range(11))\n",
        "tupla"
      ],
      "metadata": {
        "colab": {
          "base_uri": "https://localhost:8080/"
        },
        "id": "uiphLRWtHnQk",
        "outputId": "6925edec-66cf-4605-fa8b-23085735f90a"
      },
      "execution_count": null,
      "outputs": [
        {
          "output_type": "execute_result",
          "data": {
            "text/plain": [
              "(0, 1, 2, 3, 4, 5, 6, 7, 8, 9, 10)"
            ]
          },
          "metadata": {},
          "execution_count": 1
        }
      ]
    },
    {
      "cell_type": "markdown",
      "source": [
        "Crear tuplas de un solo elemento, si no se usa la coma el programa tomara esta función como un entero"
      ],
      "metadata": {
        "id": "7u3ywCQlHrGb"
      }
    },
    {
      "cell_type": "code",
      "source": [
        "tupla = (1,)\n",
        "type(tupla)"
      ],
      "metadata": {
        "colab": {
          "base_uri": "https://localhost:8080/"
        },
        "id": "sl4lmIMnHxCV",
        "outputId": "820fa48d-6eea-4de2-aeca-84b133ba0e3b"
      },
      "execution_count": null,
      "outputs": [
        {
          "output_type": "execute_result",
          "data": {
            "text/plain": [
              "tuple"
            ]
          },
          "metadata": {},
          "execution_count": 2
        }
      ]
    },
    {
      "cell_type": "markdown",
      "source": [
        "UNA LISTA SE PUEDE CONVERTIR EN UNA TUPLA\n"
      ],
      "metadata": {
        "id": "-5w-tpQIH82q"
      }
    },
    {
      "cell_type": "code",
      "source": [
        "lista = [1, 2, 4, 6]\n",
        "tupla = tuple(lista)\n",
        "tupla"
      ],
      "metadata": {
        "colab": {
          "base_uri": "https://localhost:8080/"
        },
        "id": "1xmCOvRAIEbD",
        "outputId": "3f831851-0099-4b09-9b36-f0a3629ede94"
      },
      "execution_count": null,
      "outputs": [
        {
          "output_type": "execute_result",
          "data": {
            "text/plain": [
              "(1, 2, 4, 6)"
            ]
          },
          "metadata": {},
          "execution_count": 3
        }
      ]
    },
    {
      "cell_type": "markdown",
      "source": [
        "EJERCICIO 1\n",
        "\n",
        "Cree una tupla de números enteros de al menos 10 elementos. Desarrolle un procedimiento que permita conocer el mayor y menor número almacenado, y a su vez el promedio de los números almacenados. Por ejemplo, si la función recibe el argumento:\n",
        "\n",
        "(1, 2, 4, 6, 3, 2, 7, 4, 3, 4 )\n",
        "\n",
        "Deberá retornar\n",
        "\n",
        "El valor máximo es 7\n",
        "El valor minimo es 1\n",
        "El valor promedio es 3.6"
      ],
      "metadata": {
        "id": "YrhQxiysJV-X"
      }
    },
    {
      "cell_type": "code",
      "source": [
        "#SOLUCION EJERCICIO 1\n",
        "tupla = tuple(range(11, 21))\n",
        "tupla\n",
        "print(tupla)\n",
        "maximo = max(tupla)\n",
        "minimo = min(tupla)\n",
        "promedio = sum(tupla)/10\n",
        "print(\"El valor maximo es \" , maximo)\n",
        "print(\"El valor minimo es\" , minimo)\n",
        "print(\"El valor promedio es\" ,promedio)\n",
        "\n"
      ],
      "metadata": {
        "colab": {
          "base_uri": "https://localhost:8080/"
        },
        "id": "zaov26fFJcRT",
        "outputId": "441841f9-bd9a-4a18-fefe-12f7e66d50db"
      },
      "execution_count": null,
      "outputs": [
        {
          "output_type": "stream",
          "name": "stdout",
          "text": [
            "(11, 12, 13, 14, 15, 16, 17, 18, 19, 20)\n",
            "El valor maximo es  20\n",
            "El valor minimo es 11\n",
            "El valor promedio es 15.5\n"
          ]
        }
      ]
    },
    {
      "cell_type": "markdown",
      "source": [
        "PROGRAMACION COMPACTA\n",
        "\n",
        "Las tuplas pueden crearse de manera copacta al pasar un ciclo como argumento para generarlas: Nota: Este elemento se verá en profundidad en la unidad 2.8\n",
        "\n",
        "VELOCIDAD DEL PROCESAMIENTO\n",
        "\n",
        "Las tuplas se procesan más lentamente que las listas: usarlas sólo cuando sea necesario.\n",
        "\n",
        "La recomendacion es utilizar las tuplas solo cuando sea necesario porque estan son más lentas de procesar y esto puede afectar el codigo cuando se procesan grandes cantidades de datos."
      ],
      "metadata": {
        "id": "CZ5H793DL6Pc"
      }
    },
    {
      "cell_type": "code",
      "source": [
        "print(tupla)\n",
        "tupla2 = tuple(i**2 for i in tupla)\n",
        "tupla2"
      ],
      "metadata": {
        "colab": {
          "base_uri": "https://localhost:8080/"
        },
        "id": "jQGr1BrSMLBw",
        "outputId": "f0571161-3e95-458b-b4c7-78d7b99999b3"
      },
      "execution_count": null,
      "outputs": [
        {
          "output_type": "stream",
          "name": "stdout",
          "text": [
            "(11, 12, 13, 14, 15, 16, 17, 18, 19, 20)\n"
          ]
        },
        {
          "output_type": "execute_result",
          "data": {
            "text/plain": [
              "(121, 144, 169, 196, 225, 256, 289, 324, 361, 400)"
            ]
          },
          "metadata": {},
          "execution_count": 18
        }
      ]
    },
    {
      "cell_type": "markdown",
      "source": [
        "DICCIONARIOS:\n",
        "\n",
        "Un diccionario es una estructura de datos que almacena un conjunto de pares clave:valor, donde cada clave es única y asociada a un valor determinado.\n",
        "\n",
        "Los diccionarios son similares a las listas, pero en lugar de indexar elementos por su posición numérica, se indexan por una clave única. Esta característica los hace especialmente útiles para almacenar y recuperar información de manera eficiente.\n"
      ],
      "metadata": {
        "id": "2-OoaCrrNPxF"
      }
    },
    {
      "cell_type": "markdown",
      "source": [
        "CREACION:\n",
        "\n",
        "Se usan llaves ({}). Los diccionarios pueden crearse de forma directa introduciendo cada elemento (pareja clave:valor)\n",
        "\n"
      ],
      "metadata": {
        "id": "rIgOjtGENjn0"
      }
    },
    {
      "cell_type": "code",
      "source": [
        "dic = {'Juan'  :175, 'Andrés':161, 'Ana'   : 167}\n",
        "dic"
      ],
      "metadata": {
        "colab": {
          "base_uri": "https://localhost:8080/"
        },
        "id": "TERaxt3mNwOh",
        "outputId": "155a4338-d950-44a7-e760-7bbc81bdf3b7"
      },
      "execution_count": null,
      "outputs": [
        {
          "output_type": "execute_result",
          "data": {
            "text/plain": [
              "{'Juan': 175, 'Andrés': 161, 'Ana': 167}"
            ]
          },
          "metadata": {},
          "execution_count": 19
        }
      ]
    },
    {
      "cell_type": "markdown",
      "source": [
        "Al ser estructuras de datos heterogéneas, tanto las claves como valores pueden ser de tipos de datos diferentes.\n",
        "\n",
        "No se permite usar una lista como clave"
      ],
      "metadata": {
        "id": "08scJ_9rN9y7"
      }
    },
    {
      "cell_type": "code",
      "source": [
        "dic = {3:[1,2,3],\n",
        "       'a':100,\n",
        "       'B':23.78,\n",
        "       4.2:'Programación',\n",
        "       (3,2): True}\n",
        "dic"
      ],
      "metadata": {
        "colab": {
          "base_uri": "https://localhost:8080/"
        },
        "id": "9nmHO4VOOCxc",
        "outputId": "8f495b20-4ce3-44a8-8c6a-d02ea90803d6"
      },
      "execution_count": null,
      "outputs": [
        {
          "output_type": "execute_result",
          "data": {
            "text/plain": [
              "{3: [1, 2, 3], 'a': 100, 'B': 23.78, 4.2: 'Programación', (3, 2): True}"
            ]
          },
          "metadata": {},
          "execution_count": 20
        }
      ]
    },
    {
      "cell_type": "code",
      "source": [
        "#PARA TRANSFORMAR UNA LISTA EN UN DICCIONARIO:\n",
        "\n",
        "lista = [('Clave 1',17), ('Clave 2',[14, 25]), ('Clave 3','Trece')]\n",
        "dic = dict(lista)\n",
        "dic"
      ],
      "metadata": {
        "colab": {
          "base_uri": "https://localhost:8080/"
        },
        "id": "Y3la5ww2Oris",
        "outputId": "0280afb0-9162-44d0-8535-d784b41d405d"
      },
      "execution_count": null,
      "outputs": [
        {
          "output_type": "execute_result",
          "data": {
            "text/plain": [
              "{'Clave 1': 17, 'Clave 2': [14, 25], 'Clave 3': 'Trece'}"
            ]
          },
          "metadata": {},
          "execution_count": 23
        }
      ]
    },
    {
      "cell_type": "markdown",
      "source": [
        " Indexación: Acceder a los elementos de un diccionario\n",
        "Los diccionarios no responden a la indexación convencional, en la cual se asignan números naturales que inician en cero y aumentan una unidad para cada elemento. Considerando el diccionario:"
      ],
      "metadata": {
        "id": "52VFrv4wO-Pp"
      }
    },
    {
      "cell_type": "code",
      "source": [
        "dic = {'Clave 1': 17,\n",
        "       'Clave 2': [14, 25],\n",
        "       'Clave 3': 'Trece'}\n",
        "\n",
        "dic['Clave 2']"
      ],
      "metadata": {
        "colab": {
          "base_uri": "https://localhost:8080/"
        },
        "id": "c_N6d8KNPiSE",
        "outputId": "a081d255-9ac4-4a55-8a55-f388fbd16b39"
      },
      "execution_count": null,
      "outputs": [
        {
          "output_type": "execute_result",
          "data": {
            "text/plain": [
              "[14, 25]"
            ]
          },
          "metadata": {},
          "execution_count": 24
        }
      ]
    },
    {
      "cell_type": "markdown",
      "source": [
        "Acceder a las claves\n",
        "\n",
        "Para acceder a los elementos de un diccionario, es necesario conocer las claves de sus elementos, para lo cual se usa el método keys()."
      ],
      "metadata": {
        "id": "xBbeWa19Pkw0"
      }
    },
    {
      "cell_type": "code",
      "source": [
        "dic = {'Juan'  :175,\n",
        "       'Andrés':161,\n",
        "       'Ana'   : 167}\n",
        "dic.keys()"
      ],
      "metadata": {
        "colab": {
          "base_uri": "https://localhost:8080/"
        },
        "id": "_Gj90r87PnJ0",
        "outputId": "b1153736-2f68-4041-8a98-ec2df733ed5d"
      },
      "execution_count": null,
      "outputs": [
        {
          "output_type": "execute_result",
          "data": {
            "text/plain": [
              "dict_keys(['Juan', 'Andrés', 'Ana'])"
            ]
          },
          "metadata": {},
          "execution_count": 25
        }
      ]
    },
    {
      "cell_type": "markdown",
      "source": [
        "Acceder a los valores\n",
        "\n",
        "Para acceder a todos los valores de un diccionario se usa el método values().\n",
        "\n",
        "Esta instrucción devuelve una arreglo de tipo dict_values, el cual se puede usar para iterar, pero también puede convertirse fácilmente en una lista:"
      ],
      "metadata": {
        "id": "OucHxsHbQAn0"
      }
    },
    {
      "cell_type": "code",
      "source": [
        "valores = list(dic.values())\n",
        "valores"
      ],
      "metadata": {
        "colab": {
          "base_uri": "https://localhost:8080/"
        },
        "id": "cMEUuQhlQF28",
        "outputId": "800f9918-be9f-4a69-a75a-448c6317869c"
      },
      "execution_count": null,
      "outputs": [
        {
          "output_type": "execute_result",
          "data": {
            "text/plain": [
              "[175, 161, 167]"
            ]
          },
          "metadata": {},
          "execution_count": 27
        }
      ]
    },
    {
      "cell_type": "markdown",
      "source": [
        "Acceder a los elementos\n",
        "\n",
        "Es posible acceder a los elementos completos (clave:valor) de un diccionario, por medio del método items()\n",
        "\n",
        "dic\n",
        "dic.items()\n",
        "\n",
        "Esta instrucción devuelve una arreglo de tipo dict_items, el cual puede usarse para iterar, pero también puede convertirse fácilmente en una lista de tuplas. Esto se debe a que cada elemento que se extrae del diccionario es una tupla (clave, valor)."
      ],
      "metadata": {
        "id": "JSTFdG87Qr7l"
      }
    },
    {
      "cell_type": "code",
      "source": [
        "items = list(dic.items())\n",
        "items"
      ],
      "metadata": {
        "colab": {
          "base_uri": "https://localhost:8080/"
        },
        "id": "2G2ctpfkQ1HM",
        "outputId": "02082e3e-b57d-4bf9-e0fc-dfc475734609"
      },
      "execution_count": null,
      "outputs": [
        {
          "output_type": "execute_result",
          "data": {
            "text/plain": [
              "[('Juan', 175), ('Andrés', 161), ('Ana', 167)]"
            ]
          },
          "metadata": {},
          "execution_count": 28
        }
      ]
    },
    {
      "cell_type": "markdown",
      "source": [
        "El uso apropiado de los diccionarios hace más legible el código. Si se usan las claves apropiadas, éstas se podrán recordar fácilmente.\n",
        "\n"
      ],
      "metadata": {
        "id": "fTx0zAbfQ6o0"
      }
    },
    {
      "cell_type": "markdown",
      "source": [
        "Ejemplo:\n",
        "\n",
        "Considere el caso en el que el usuario ingresa el nombre de un mes, y se usa un diccionario para determinar la cantidad de días de dicho mes:"
      ],
      "metadata": {
        "id": "aNI2Lf2gRCKr"
      }
    },
    {
      "cell_type": "code",
      "source": [
        "# diccionario de días por meses\n",
        "n_dias = {'enero':31, 'febrero':28, 'marzo':31, 'abril':30, 'mayo':31,\n",
        "          'junio':30, 'julio':31, 'agosto':31, 'septiembre':30,\n",
        "          'octubre':31, 'noviembre':30, 'diciembre':31}\n",
        "\n",
        "# ingreso del mes\n",
        "mes = input('Ingrese el nombre de un mes: ').lower().strip() #Lower transforma lo ingresado en minusculas y strip elimina los espacios en caso de que los haya\n",
        "\n",
        "print(f'El mes {mes} tiene {n_dias[mes]} días')"
      ],
      "metadata": {
        "colab": {
          "base_uri": "https://localhost:8080/"
        },
        "id": "jNeb29HcRbPP",
        "outputId": "531fbfaa-b781-4a1f-8345-cfba6e7ca2d8"
      },
      "execution_count": null,
      "outputs": [
        {
          "output_type": "stream",
          "name": "stdout",
          "text": [
            "Ingrese el nombre de un mes: MAYO\n",
            "El mes mayo tiene 31 días\n"
          ]
        }
      ]
    },
    {
      "cell_type": "markdown",
      "source": [
        "ESTOS DICCIONARIOS SE PUEDEN VER COMO SI FUERAN BASES DE DATOS, LA DIFERENCIA ES QUE LAS BASES DE DATOS PUEDEN CREAR N DIMENSIONES EN CAMBION CON LOS DICCIONARIOS SOLO SE PUEDEN DOS DIMENSIONES\n",
        "\n",
        "LAS CLAVES NO SE PUEDEN CAMBIAR PERO LOS VALORES SI.\n"
      ],
      "metadata": {
        "id": "gZpPzFN0RwdD"
      }
    },
    {
      "cell_type": "markdown",
      "source": [
        "Ejercicio 1\n",
        "\n",
        "Considere un diccionario que tiene todos los meses del año y el número de días de cada mes.\n",
        "\n",
        "Imprimir todas las llaves, valores e ítems del diccionario."
      ],
      "metadata": {
        "id": "xjWXcbw8SNCs"
      }
    },
    {
      "cell_type": "code",
      "source": [
        "# diccionario de días por meses\n",
        "dic = {'enero':31, 'febrero':28, 'marzo':31, 'abril':30, 'mayo':31,\n",
        "          'junio':30, 'julio':31, 'agosto':31, 'septiembre':30,\n",
        "          'octubre':31, 'noviembre':30, 'diciembre':31}\n",
        "print(\"Estas son todas las llaves: \" , dic.keys())\n",
        "print(\"Estos son todos los valores: \" , dic.values())\n",
        "print(\"Estos son todos los items: \" , dic.items())"
      ],
      "metadata": {
        "colab": {
          "base_uri": "https://localhost:8080/"
        },
        "id": "6Sm6hrf-ST6L",
        "outputId": "4bb7fdab-3eb3-477f-a86c-afa2e6264948"
      },
      "execution_count": null,
      "outputs": [
        {
          "output_type": "stream",
          "name": "stdout",
          "text": [
            "Estas son todas las llaves:  dict_keys(['enero', 'febrero', 'marzo', 'abril', 'mayo', 'junio', 'julio', 'agosto', 'septiembre', 'octubre', 'noviembre', 'diciembre'])\n",
            "Estos son todos los valores:  dict_values([31, 28, 31, 30, 31, 30, 31, 31, 30, 31, 30, 31])\n",
            "Estos son todos los items:  dict_items([('enero', 31), ('febrero', 28), ('marzo', 31), ('abril', 30), ('mayo', 31), ('junio', 30), ('julio', 31), ('agosto', 31), ('septiembre', 30), ('octubre', 31), ('noviembre', 30), ('diciembre', 31)])\n"
          ]
        }
      ]
    },
    {
      "cell_type": "markdown",
      "source": [
        "AGREGAR Y ELIMINAR ELEMENTOS\n",
        "\n",
        "Ver detalladamente el notebook de clase"
      ],
      "metadata": {
        "id": "Qq-rfxWhT7rK"
      }
    },
    {
      "cell_type": "markdown",
      "source": [
        "Ejercicio 2\n",
        "\n",
        "Considere un diccionario cuya clave es el nombre del color primario y su código rgb :\n",
        "\n",
        "Ejercicio 2\n",
        "Considere un diccionario cuya clave es el nombre del color primario y su código rgb :\n",
        "\n",
        "Cree un diccionario llamado colores que sea la unión de primarios y secundarios."
      ],
      "metadata": {
        "id": "pk4IYLBlXsXr"
      }
    },
    {
      "cell_type": "code",
      "source": [
        "#Creamos el primer diccionario:\n",
        "\n",
        "colores = {\"Rojo\" : (255 , 000 , 000),\n",
        "         \"Verde\" : (000 , 255 , 000),\n",
        "         \"Azul\" : (000 , 000 , 255)}\n",
        "dic2 = {\"Amarillo\" : (255 , 255 , 000),\n",
        "         \"Naranja\" : (255 , 166 , 000),\n",
        "         \"Morado\" : (128 , 000 , 128)}\n",
        "\n",
        "colores.update(dic2)\n",
        "colores"
      ],
      "metadata": {
        "colab": {
          "base_uri": "https://localhost:8080/"
        },
        "id": "YL07syXtYIzc",
        "outputId": "fb3c7530-1947-4518-a998-9bfd9ac9c0a5"
      },
      "execution_count": null,
      "outputs": [
        {
          "output_type": "execute_result",
          "data": {
            "text/plain": [
              "{'Rojo': (255, 0, 0),\n",
              " 'Verde': (0, 255, 0),\n",
              " 'Azul': (0, 0, 255),\n",
              " 'Amarillo': (255, 255, 0),\n",
              " 'Naranja': (255, 166, 0),\n",
              " 'Morado': (128, 0, 128)}"
            ]
          },
          "metadata": {},
          "execution_count": 2
        }
      ]
    },
    {
      "cell_type": "markdown",
      "source": [
        "CLASE 20 DE SEPTIEMBRE 2024\n",
        "\n",
        "Unidad 2 - Control del Flujo - Parte 7 - Estructuras de selección\n",
        "\n",
        "El flujo de un programa se refiere al orden en que se ejecutan las instrucciones. Hasta este momento, todas las instrucciones se ejecutan de manera secuencial. Es decir, una tras otra en el orden en que están escritas en el programa. Las distintas estructuras de programación (ej. Selección, repetición) permiten que el flujo sea modificado para responder a la interacción con el usuario o a las necesidades del problema que se espera resolver.\n",
        "\n",
        "Considere un programa que le pregunte al usuario el tiempo en minutos que tarda haciendo una tarea y retorne valor que deberá pagarse asumiendo que se paga  \n",
        "a 5000 por hora completa de labor, y que la fracción de la hora se paga a 80 por minuto. Note la manera como las instruccciones se ejecutan de manera secuencial."
      ],
      "metadata": {
        "id": "MByQtWxXcbH7"
      }
    },
    {
      "cell_type": "code",
      "source": [
        "entrada  = input(\"Ingrese el número de minutos requeridos para la tarea: \")\n",
        "minutos = int(entrada) # Convertir a entero\n",
        "horas = minutos // 60 # División entera, obtine el número de horas\n",
        "restante = minutos - horas * 60 # Obtiene el número restante de minutos.\n",
        "# Tambien puede obtenerse con el operador modulo\n",
        "restante = minutos % 60 # Este % significa modulo\n",
        "pago = horas*5000 + restante*80 # Calcula el pago\n",
        "print(\"La tarea toma \", horas, \" y \", restante, \" minutos. con un valor de: \", pago)"
      ],
      "metadata": {
        "colab": {
          "base_uri": "https://localhost:8080/"
        },
        "id": "nboTGLpHciEi",
        "outputId": "4b65d3b6-545d-4515-c5e0-e17141688b3f"
      },
      "execution_count": null,
      "outputs": [
        {
          "output_type": "stream",
          "name": "stdout",
          "text": [
            "Ingrese el número de minutos requeridos para la tarea: 100\n",
            "La tarea toma  1  y  40  minutos. con un valor de:  8200\n"
          ]
        }
      ]
    },
    {
      "cell_type": "markdown",
      "source": [
        "LA OTRA PARTE DEL EJERCICIO"
      ],
      "metadata": {
        "id": "h5MpW37AfuP6"
      }
    },
    {
      "cell_type": "code",
      "source": [
        "minutos  = int(input(\"Ingrese el número de minutos requeridos para la tarea: \"))\n",
        "\n",
        "horas = minutos // 60 # División entera, obtine el número de horas\n",
        "restante = minutos % 60 # Este % significa modulo\n",
        "\n",
        "if restante > 30:\n",
        "  pago = horas*5000 + 5000\n",
        "  print(pago)\n",
        "else:\n",
        "  pago = horas*5000 + restante*80 # Calcula el pago con la condicion de que trabajo menos de 30 minutos\n",
        "  print(pago)\n",
        "\n"
      ],
      "metadata": {
        "colab": {
          "base_uri": "https://localhost:8080/"
        },
        "id": "Y1ngygowfwlr",
        "outputId": "0a007262-cbe2-449e-a9da-79f71f39fdc8"
      },
      "execution_count": null,
      "outputs": [
        {
          "output_type": "stream",
          "name": "stdout",
          "text": [
            "Ingrese el número de minutos requeridos para la tarea: 100\n",
            "10000\n"
          ]
        }
      ]
    },
    {
      "cell_type": "markdown",
      "source": [
        "CONDICIONAL SIMPLE:\n",
        "\n",
        "EJEMPLO:\n",
        "\n",
        "Por ahora consideremos el siguiente programa de ejemplo: Usted debe ingresar el valor de la compra de un cliente. Si dicha compra es superior a 20.000 el cliente tendrá derecho a un descuento del 15 por ciento"
      ],
      "metadata": {
        "id": "22zhUlx2iJoK"
      }
    },
    {
      "cell_type": "code",
      "source": [
        "compra = input(\"introduzca el valor total de la compra:\") # pregunta el valor de la compra\n",
        "valor = int(compra) # obtiene el valor como entero\n",
        "if valor > 20000: # Verifica si se cumple la condición de que la compra sea mayor\n",
        "    print (\"Usted tiene derecho a un descuento del 15%\")\n",
        "    valor = 0.85*valor\n",
        "print(\"El valor de su compra es \", valor) #Este print debe estar afuera para que salga un enunciado así no se cumpla la condicion"
      ],
      "metadata": {
        "colab": {
          "base_uri": "https://localhost:8080/"
        },
        "id": "t842ZWJijInv",
        "outputId": "690b3a3c-5990-4b40-aefb-598e9e0496e1"
      },
      "execution_count": null,
      "outputs": [
        {
          "output_type": "stream",
          "name": "stdout",
          "text": [
            "introduzca el valor total de la compra:25000\n",
            "Usted tiene derecho a un descuento del 15%\n",
            "El valor de su compra es  21250.0\n"
          ]
        }
      ]
    },
    {
      "cell_type": "markdown",
      "source": [
        "EJERCICIO DE CLASE ESTRUCTURA SIMPLE\n",
        "\n",
        "Escriba un programa que solicite al usuario ingresar un número entero y que genere un mensaje indicando si el número ingresado es par"
      ],
      "metadata": {
        "id": "ugaa9JuWkFfH"
      }
    },
    {
      "cell_type": "code",
      "source": [
        "numero = int(input('Ingresa un numero entero: '))\n",
        "\n",
        "if numero % 2 == 0:\n",
        "  print(\"El numero es par\")"
      ],
      "metadata": {
        "colab": {
          "base_uri": "https://localhost:8080/"
        },
        "id": "G0zNKZsnkKM_",
        "outputId": "40c2b33b-a560-4994-ce6c-cc99627209b8"
      },
      "execution_count": null,
      "outputs": [
        {
          "output_type": "stream",
          "name": "stdout",
          "text": [
            "Ingresa un numero entero: 20\n",
            "El numero es par\n"
          ]
        }
      ]
    },
    {
      "cell_type": "markdown",
      "source": [
        "CONDICION DOBLE\n",
        "\n",
        "Extiende la estructura simple descrita anteriormente. La estructura condicional doble permite elegir entre dos opciones o alternativas posibles, en función del cumplimiento o no de una determinada condición. Si la condición es verdadera, se ejecuta una acción y, si es falsa, se ejecuta otra acción diferente\n",
        "\n",
        "La sintaxis para escribir este tipo de estructuras cambia dependiendo del lenguaje pero en general podrá verse de la siguiente forma:\n",
        "\n",
        "if (Condición):\n",
        "    Instrucciones a realizar si la condición es verdadera\n",
        "elif\n",
        "    Instrucciones a realizar si la condición es falsa"
      ],
      "metadata": {
        "id": "poyTQJfvm3fe"
      }
    },
    {
      "cell_type": "markdown",
      "source": [
        "EJEMPLO:\n",
        "\n",
        "Considere el siguiente programa de ejemplo: Usted debe ingresar el valor de la compra de un cliente. Si dicha compra es superior a 20.000 el cliente tendrá derecho a un descuento del 15 por ciento, en caso contrario el descuento será únicamente del 5 por ciento."
      ],
      "metadata": {
        "id": "Vf5fXRelnX4V"
      }
    },
    {
      "cell_type": "code",
      "source": [
        "compra = input(\"introduzca el valor total de la compra:\") # pregunta el valor de la compra\n",
        "valor = int(compra) # obtiene el valor como entero\n",
        "if valor >= 20000: # Verifica si se cumple la condición\n",
        "    print (\"Usted tiene derecho a un descuento del 15%\")\n",
        "    valor = 0.85*valor\n",
        "else:\n",
        "    print (\"Usted tiene derecho a un descuento del 5%\")\n",
        "    valor = 0.95*valor\n",
        "print(\"El valor de su compra es \", valor)"
      ],
      "metadata": {
        "id": "AeiLGHLtnppt"
      },
      "execution_count": null,
      "outputs": []
    },
    {
      "cell_type": "markdown",
      "source": [
        "EJERCICIO 4\n",
        "\n"
      ],
      "metadata": {
        "id": "haE2cRbPnsj9"
      }
    },
    {
      "cell_type": "code",
      "source": [
        "nombre = input(\"Ingrese su nombre: \")\n",
        "estatura = float(input(\"Ingrese su estatura: \"))\n",
        "peso = float(input(\"Ingrese su peso: \"))\n",
        "imc = round(peso / (estatura ** 2)) # La función round redondea el numero\n",
        "print(imc)\n",
        "\n",
        "if imc < 18.49 and imc >= 0:\n",
        "  print(\"Su categoria es peso bajo\")\n",
        "elif imc < 24.9 and imc >= 18.5:\n",
        "  print(\"Su categoria es peso normal\")\n",
        "elif imc < 29.9 and imc >= 25:\n",
        "  print(\"Su categoria es sobrepeso\")\n",
        "elif imc < 34.9 and imc >= 30:\n",
        "  print(\"Su categoria es Obesidad leve\")\n",
        "elif imc >= 40:\n",
        "  print(\"Su categoria es obesidad morvida\")\n",
        "else:\n",
        "  print(\"Usted no ingreso un valor valido\")"
      ],
      "metadata": {
        "colab": {
          "base_uri": "https://localhost:8080/"
        },
        "id": "By-BrLuzsM7D",
        "outputId": "1a498173-5073-4a38-999a-26fa537d4eb8"
      },
      "execution_count": null,
      "outputs": [
        {
          "output_type": "stream",
          "name": "stdout",
          "text": [
            "Ingrese su nombre: Daniel\n",
            "Ingrese su estatura: 1.78\n",
            "Ingrese su peso: 69\n",
            "22\n",
            "Su categoria es peso normal\n"
          ]
        }
      ]
    },
    {
      "cell_type": "markdown",
      "source": [
        "## <font color='157699'> **Unidad 2 - Control del Flujo - Parte 8 - Estructuras iterativas** </font>\n",
        "\n",
        "Los algoritmos y los programas que los implementan usualmente deben ejecutar una instrucción o bloques de instrucciones repetidamente. Las estructuras que repiten una secuencia de instrucciones un número determinado de veces se denominan bucles y se denomina iteración al hecho de repetir la ejecución de una secuencia de acciones.\n",
        "\n",
        "\n",
        "\n",
        "## <font color='#006400'> **Ejemplo 1** </font> Usted desea estimar el promedio de sus notas este semestre. La siguiente lista contiene sus calificaciones en las seis asignaturas que curso:"
      ],
      "metadata": {
        "id": "YbkjBsTYO5D_"
      }
    },
    {
      "cell_type": "code",
      "source": [
        "notas = [3.5, 4.5, 3.8, 4.9, 3.7, 4.3]\n",
        "total = 0 # la suma inicial es 0\n",
        "\n",
        "for i in range(len(notas)): # Repite para todas las notas que tenga\n",
        "    total = total + notas[i] # Suma la nota a total\n",
        "\n",
        "promedio = total/len(notas) # Divide el total de todas las notas entre el número de asignaturas\n",
        "print(\"Su promedio es: \", promedio)# Imprime promedio\n"
      ],
      "metadata": {
        "id": "BU03ZCQ2SBAS"
      },
      "execution_count": null,
      "outputs": []
    },
    {
      "cell_type": "markdown",
      "source": [
        "## <font color='#006400'> **Ejemplo 2** </font>  El programa genera un número aleatorio entre 0 y 9 que usted desconoce, usted deberá seleccionar números hasta que logre adivinarlo."
      ],
      "metadata": {
        "id": "vVwfhOe5SELl"
      }
    },
    {
      "cell_type": "code",
      "source": [
        "import random # importa random\n",
        "\n",
        "aleatorio = random.randint(0, 1) # Genera un número aletaorio entre 0 y 9\n",
        "noAdivina = True # no Adivina el número\n",
        "\n",
        "while noAdivina:\n",
        "    escogidoStr = input(\"Ingrese un número entre 0 y 9 \") # Ingresar número\n",
        "    escogidoInt = int(escogidoStr) # Convierte a entero el número ingresado como string\n",
        "\n",
        "    # Verifica si adivina el número\n",
        "    if aleatorio == escogidoInt :\n",
        "        print(\"Has ganado! Felicitaciones!\")\n",
        "        noAdivina = False # adivina el número y cambia a False\n",
        "    else:\n",
        "        print(\"No Has ganado, sigue intentado\")"
      ],
      "metadata": {
        "colab": {
          "base_uri": "https://localhost:8080/"
        },
        "id": "-tI8zVpSSoE-",
        "outputId": "47c72d46-6e4a-4484-a2db-0876a50198e0"
      },
      "execution_count": null,
      "outputs": [
        {
          "output_type": "stream",
          "name": "stdout",
          "text": [
            "Ingrese un número entre 0 y 9 0\n",
            "Has ganado! Felicitaciones!\n"
          ]
        }
      ]
    },
    {
      "cell_type": "markdown",
      "source": [
        "Con el while no sabemos cuantas iteraciones vamos a necesitar, en cambio con el for si sabemos porque lo ideal es que ya haya un rango definido.\n",
        "\n"
      ],
      "metadata": {
        "id": "sQybC62qT3qv"
      }
    },
    {
      "cell_type": "markdown",
      "source": [
        "## <font color='157699'> **Contadores** </font>\n",
        "\n",
        "\n",
        "La construcción de un contador es una de las técnicas más comunes en la realización de algoritmos.\n",
        "Es una variable en la memoria que se incrementará en una unidad cada vez que se ejecute el proceso.\n",
        "El contador se utiliza para llevar la cuenta de determinadas acciones que se pueden solicitar durante la resolución de un problema.\n",
        "En las instrucciones de preparación se realiza la inicialización del contador o contadores. La inicialización consiste en poner el valor inicial de la variable que representa al contador.\n",
        "Generalmente se inicializa con el valor 0 para operaciones de suma y en 1 para operaciones de multiplicación.\n"
      ],
      "metadata": {
        "id": "bjOMIkbFUbN2"
      }
    },
    {
      "cell_type": "markdown",
      "source": [
        "## <font color='157699'> **Acumuladores** </font>\n",
        "\n",
        "\n",
        "Un acumulador  es una variable en la memoria cuya misión es almacenar cantidades variables.\n",
        "Se utiliza para efectuar sumas sucesivas. La principal diferencia con el contador es que el incremento o decremento de cada suma es variable en lugar de constante como en el caso del contador."
      ],
      "metadata": {
        "id": "bGCegTRrUdCt"
      }
    },
    {
      "cell_type": "markdown",
      "source": [
        "## <font color='157699'> **Contadores y Acumuladores** </font>\n",
        "\n",
        "\n",
        "El ejemplo más sencillo para explicar contadores y acumuladores detalla el promedio de n números ingresados a un sistema.\n",
        "Un contador debe llevar cuenta de la cantidad de números ingresados y el acumulador debe llevar la suma de todos los valores ingresados, al final del procedimiento realizamos la siguiente operación,\n",
        "<h1>\n",
        "${promedio} = \\frac{acumulador}{contador}$"
      ],
      "metadata": {
        "id": "TsaNHwovUfYc"
      }
    },
    {
      "cell_type": "markdown",
      "source": [
        "## <font color='157699'> **Fibonacci** </font>"
      ],
      "metadata": {
        "id": "x1XfygzqbZmk"
      }
    },
    {
      "cell_type": "code",
      "source": [
        "n = int(input(\"Ingrese un numero entero positivo: \"))\n",
        "a = 0\n",
        "b = 1\n",
        "\n",
        "while b < n:\n",
        "  print(b)\n",
        "  temp = b\n",
        "  b = a + b\n",
        "  a = temp"
      ],
      "metadata": {
        "colab": {
          "base_uri": "https://localhost:8080/"
        },
        "id": "bbewahrJY3bv",
        "outputId": "c3e8d516-87ec-4dd5-e150-a126bd44089e"
      },
      "execution_count": null,
      "outputs": [
        {
          "output_type": "stream",
          "name": "stdout",
          "text": [
            "Ingrese un numero entero positivo: 100\n",
            "1\n",
            "1\n",
            "2\n",
            "3\n",
            "5\n",
            "8\n",
            "13\n",
            "21\n",
            "34\n",
            "55\n",
            "89\n"
          ]
        }
      ]
    },
    {
      "cell_type": "markdown",
      "source": [
        "###<font color='8EC044'> **Ejercicio 1** </font>\n",
        "Considere el caso en que usted lanzará un dado repetidamente cada vez sumando el resultado obtenido pero deberá parar cuando la suma de los resultados sobrepase el valor de 30. diseñe un programa que efectue esta operación e imprima el valor de la suma despues de cada lanzamiento y despues del último lanzamiento"
      ],
      "metadata": {
        "id": "VzTbu21ZgDwj"
      }
    },
    {
      "cell_type": "code",
      "source": [
        "import random\n",
        "\n",
        "suma = 0\n",
        "cont = 0\n",
        "\n",
        "while suma <= 30:\n",
        "    lanzamiento = random.randint(1, 6)  # Simula lanzar un dado (número entre 1 y 6)\n",
        "    suma = suma + lanzamiento\n",
        "    cont = cont + 1\n",
        "    print(f\"Este es el lanzamiento: {cont} con un valor de: {lanzamiento} y la Suma actual: {suma}\")\n",
        "\n",
        "print(f\"Suma final: {suma}\")\n"
      ],
      "metadata": {
        "id": "8wkf5kKCgHwr",
        "colab": {
          "base_uri": "https://localhost:8080/"
        },
        "outputId": "1bb1fbfd-7634-4d67-c68a-6dc26fcf750e"
      },
      "execution_count": null,
      "outputs": [
        {
          "output_type": "stream",
          "name": "stdout",
          "text": [
            "Este es el lanzamiento: 1 con un valor de: 3 y la Suma actual: 3\n",
            "Este es el lanzamiento: 2 con un valor de: 5 y la Suma actual: 8\n",
            "Este es el lanzamiento: 3 con un valor de: 4 y la Suma actual: 12\n",
            "Este es el lanzamiento: 4 con un valor de: 4 y la Suma actual: 16\n",
            "Este es el lanzamiento: 5 con un valor de: 6 y la Suma actual: 22\n",
            "Este es el lanzamiento: 6 con un valor de: 5 y la Suma actual: 27\n",
            "Este es el lanzamiento: 7 con un valor de: 5 y la Suma actual: 32\n",
            "Suma final: 32\n"
          ]
        }
      ]
    },
    {
      "cell_type": "markdown",
      "source": [
        "Ciclo for\n",
        "En muchas ocasiones se conoce de antemano el número de veces que se desean ejecutar las acciones de un bucle o ciclo. En estos casos, en el que el número de iteraciones es fijo, se debe usar la estructura for. Esta estructura ejecuta las acciones del cuerpo del bucle un número especificado de veces y de modo automático\n",
        "\n",
        "\n",
        "La sintaxis para escribir este tipo de estructuras cambia dependiendo del lenguaje pero en general podrá verse de la siguiente forma:\n",
        "\n"
      ],
      "metadata": {
        "id": "-NfTLgbKefVr"
      }
    },
    {
      "cell_type": "code",
      "source": [
        "for i in range(10):\n",
        "    #Instrucciones a realizar desde cero hasta 9"
      ],
      "metadata": {
        "id": "u1kyS8S_evoa"
      },
      "execution_count": null,
      "outputs": []
    },
    {
      "cell_type": "markdown",
      "source": [
        "Ejemplo 4\n",
        "\n",
        "Considere el siguiente programa que imprime los primeros 5 números pares"
      ],
      "metadata": {
        "id": "mVVaoQUZezeR"
      }
    },
    {
      "cell_type": "code",
      "source": [
        "valor = 0 # Define el inicio en cero\n",
        "for contador in range(0,5): # Define el número de veces a iterar\n",
        "    valor = valor + 2 # suma dos al valor inicial\n",
        "    print(valor) # Imprime el valor"
      ],
      "metadata": {
        "colab": {
          "base_uri": "https://localhost:8080/"
        },
        "id": "enYGkCmFe2Gi",
        "outputId": "baffaaea-68bc-47d6-b303-4ff4bb0a9097"
      },
      "execution_count": null,
      "outputs": [
        {
          "output_type": "stream",
          "name": "stdout",
          "text": [
            "2\n",
            "4\n",
            "6\n",
            "8\n",
            "10\n"
          ]
        }
      ]
    },
    {
      "cell_type": "markdown",
      "source": [
        "## <font color='157699'>**Iteración o recorrido de cadenas de caracteres**</font>\n",
        "\n",
        "Una cadena de caracteres puede recorrerse usando la estructura de repetición `for` que vimos anteriormente.\n",
        "\n",
        "Ahora asumamos que tenemos una cadena de caracteres (que en realidad es una colección de datos caracter). Note como el iteramos en ella con el ciclo for imprimiendo cada una de las letras\n",
        "\n",
        "Una primera forma es usar el operador `in` y la estructura \"para\" (`for`)"
      ],
      "metadata": {
        "id": "Z6SLoPFAfZjK"
      }
    },
    {
      "cell_type": "markdown",
      "source": [
        "Ejemplo 5\n",
        "\n",
        " Recorrido de cadenas de caracteres para extraer las vocales:"
      ],
      "metadata": {
        "id": "lEjHJ7X8gnXq"
      }
    },
    {
      "cell_type": "code",
      "source": [
        "palabra = input('Ingrese una palabra:    ')\n",
        "pal = ''    # Cadena de caracteres vacía que se usará para ir concatenando las vocales que se encuentren\n",
        "for char in palabra.lower():\n",
        "    if char in 'aeiouáéíóú':\n",
        "        pal += char\n",
        "pal"
      ],
      "metadata": {
        "colab": {
          "base_uri": "https://localhost:8080/",
          "height": 53
        },
        "id": "sEWoXS5OgrtY",
        "outputId": "ab3bf155-0bee-4ebe-e335-b8b01fd7c346"
      },
      "execution_count": null,
      "outputs": [
        {
          "name": "stdout",
          "output_type": "stream",
          "text": [
            "Ingrese una palabra:    Esternocleidomastoideo\n"
          ]
        },
        {
          "output_type": "execute_result",
          "data": {
            "text/plain": [
              "'eeoeioaoieo'"
            ],
            "application/vnd.google.colaboratory.intrinsic+json": {
              "type": "string"
            }
          },
          "metadata": {},
          "execution_count": 2
        }
      ]
    },
    {
      "cell_type": "markdown",
      "source": [
        "Se puede cambiar esta estructura para que nos escuentre las consonantes. De esta manera"
      ],
      "metadata": {
        "id": "E8-DhrWdhB7a"
      }
    },
    {
      "cell_type": "code",
      "source": [
        "palabra = input('Ingrese una palabra:    ')\n",
        "pal = ''    # Cadena de caracteres vacía que se usará para ir concatenando las vocales que se encuentren\n",
        "for char in palabra.lower():\n",
        "    if char not in 'aeiouáéíóú':\n",
        "        pal += char\n",
        "pal"
      ],
      "metadata": {
        "colab": {
          "base_uri": "https://localhost:8080/",
          "height": 53
        },
        "id": "ONYECN0jhHrR",
        "outputId": "28628e8b-586d-43eb-81e0-5ce57f45ffe3"
      },
      "execution_count": null,
      "outputs": [
        {
          "name": "stdout",
          "output_type": "stream",
          "text": [
            "Ingrese una palabra:    Esternocleidomastoideo\n"
          ]
        },
        {
          "output_type": "execute_result",
          "data": {
            "text/plain": [
              "'strncldmstd'"
            ],
            "application/vnd.google.colaboratory.intrinsic+json": {
              "type": "string"
            }
          },
          "metadata": {},
          "execution_count": 4
        }
      ]
    },
    {
      "cell_type": "markdown",
      "source": [
        "Ejemplo: Identificación del tipo de elementos en una lista"
      ],
      "metadata": {
        "id": "VxprkhuLiCga"
      }
    },
    {
      "cell_type": "code",
      "source": [
        "lista = ['o', 5, 7.2, 'palabra', 10, 25, 'hola', 2.85]\n",
        "ent = 0 # cantidad de enteros\n",
        "cad = 0 # cantidad de cadenas de caracteres\n",
        "real = 0 # cantidad de números reales\n",
        "for item in lista:\n",
        "    if type(item) == int:\n",
        "        ent += 1\n",
        "    elif type(item) == str:\n",
        "        cad += 1\n",
        "    elif type(item) == float:\n",
        "        real += 1\n",
        "print('\\nLa lista tiene %d elementos que son números enteros' % ent)\n",
        "print('\\nLa lista tiene %d elementos que son números reales' % real)\n",
        "print('\\nLa lista tiene %d elementos que son cadenas de caracteres' % cad)"
      ],
      "metadata": {
        "colab": {
          "base_uri": "https://localhost:8080/"
        },
        "id": "LsTGX2ghiD-m",
        "outputId": "1cafe083-0415-45c3-d8b2-9dc1f9de4df3"
      },
      "execution_count": null,
      "outputs": [
        {
          "output_type": "stream",
          "name": "stdout",
          "text": [
            "\n",
            "La lista tiene 3 elementos que son números enteros\n",
            "\n",
            "La lista tiene 2 elementos que son números reales\n",
            "\n",
            "La lista tiene 3 elementos que son cadenas de caracteres\n"
          ]
        }
      ]
    },
    {
      "cell_type": "markdown",
      "source": [
        "##<font color='8EC044'> **Ejercicio 3** </font>\n",
        "\n",
        "Considere una lista que contiene los créditos de las asignaturas de un estudiante. Cada elemento es en sí una lista que contiene el nombre de la asignatura y sus créditos:\n",
        "\n",
        ">  `lista = [[\"Algoritmos\", 3], [\"Simulacion\", 4], [\"Proyectos\", 3]]`\n",
        "\n",
        "Diseñe un algoritmo que obtenga la suma de los creditos de las asignaturas cursadas."
      ],
      "metadata": {
        "id": "Hmp54a7ekDm4"
      }
    },
    {
      "cell_type": "code",
      "source": [
        "\n",
        "#Este metodo es de indexación\n",
        "lista = [[\"Algoritmos\", 3],\n",
        "         [\"Simulacion\", 4],\n",
        "         [\"Proyectos\", 3]]\n",
        "extraccion = lista [0][1] + lista [1][1] + lista [2][1]\n",
        "print(extraccion)\n"
      ],
      "metadata": {
        "id": "fknq0luIkKj7",
        "colab": {
          "base_uri": "https://localhost:8080/"
        },
        "outputId": "afb274b7-fc06-4bfb-ca8b-62e8fe916745"
      },
      "execution_count": null,
      "outputs": [
        {
          "output_type": "stream",
          "name": "stdout",
          "text": [
            "10\n"
          ]
        }
      ]
    },
    {
      "cell_type": "code",
      "source": [
        "suma = 0\n",
        "lista = [[\"Algoritmos\", 3],\n",
        "         [\"Simulacion\", 4],\n",
        "         [\"Proyectos\", 3]]\n",
        "for numero in lista: #numero es la variable transitoria\n",
        "  suma = suma + numero [1] #Cada lista toma el nombre de numero y luego operamos la posicion de la lista que queremos en este caso [1]\n",
        "\n",
        "print('El total de creditos es:', suma )\n"
      ],
      "metadata": {
        "colab": {
          "base_uri": "https://localhost:8080/"
        },
        "id": "8-WTO0KXlo5O",
        "outputId": "e9e61323-d3bc-4ce9-850f-f981f1de7f72"
      },
      "execution_count": null,
      "outputs": [
        {
          "output_type": "stream",
          "name": "stdout",
          "text": [
            "El total de creditos es: 10\n"
          ]
        }
      ]
    },
    {
      "cell_type": "markdown",
      "source": [
        "EJERCICIO"
      ],
      "metadata": {
        "id": "6F4DYkfKsP7i"
      }
    },
    {
      "cell_type": "code",
      "source": [
        "for op1 in range(1,11):\n",
        "   for op2 in range(1,11):\n",
        "      producto = op1*op2\n",
        "      print (producto, end=' ')\n",
        "   print()"
      ],
      "metadata": {
        "colab": {
          "base_uri": "https://localhost:8080/"
        },
        "id": "W_g2edbmrvVh",
        "outputId": "f7fd282c-4c3f-4d43-e548-d333d64c7d45"
      },
      "execution_count": null,
      "outputs": [
        {
          "output_type": "stream",
          "name": "stdout",
          "text": [
            "1 2 3 4 5 6 7 8 9 10 \n",
            "2 4 6 8 10 12 14 16 18 20 \n",
            "3 6 9 12 15 18 21 24 27 30 \n",
            "4 8 12 16 20 24 28 32 36 40 \n",
            "5 10 15 20 25 30 35 40 45 50 \n",
            "6 12 18 24 30 36 42 48 54 60 \n",
            "7 14 21 28 35 42 49 56 63 70 \n",
            "8 16 24 32 40 48 56 64 72 80 \n",
            "9 18 27 36 45 54 63 72 81 90 \n",
            "10 20 30 40 50 60 70 80 90 100 \n"
          ]
        }
      ]
    },
    {
      "cell_type": "markdown",
      "source": [
        "##<font color='8EC044'> **Ejercicio 6** </font>\n",
        "\n",
        "Genere un programa que dado un número, calcule el valor del factorial.  Recuerde que, por ejemplo:\n",
        "\n",
        "5! = 5 * 4 * 3 * 2 * 1 = 120"
      ],
      "metadata": {
        "id": "qEUTrAtKsSiD"
      }
    },
    {
      "cell_type": "code",
      "source": [
        "\n",
        "dato = int(input('Ingresa un numero entero: '))\n",
        "\n",
        "factorial = 1\n",
        "\n",
        "for i in range(1, dato + 1 ):\n",
        "  factorial = factorial * i\n",
        "print(factorial)"
      ],
      "metadata": {
        "colab": {
          "base_uri": "https://localhost:8080/",
          "height": 228
        },
        "id": "bn8lEnQ4sYgK",
        "outputId": "4f077145-3818-45bb-826f-509199cf4094"
      },
      "execution_count": null,
      "outputs": [
        {
          "name": "stdout",
          "output_type": "stream",
          "text": [
            "Ingresa un numero entero: 5\n"
          ]
        },
        {
          "output_type": "error",
          "ename": "TypeError",
          "evalue": "'list' object is not callable",
          "traceback": [
            "\u001b[0;31m---------------------------------------------------------------------------\u001b[0m",
            "\u001b[0;31mTypeError\u001b[0m                                 Traceback (most recent call last)",
            "\u001b[0;32m<ipython-input-33-e9a6615fff12>\u001b[0m in \u001b[0;36m<cell line: 1>\u001b[0;34m()\u001b[0m\n\u001b[0;32m----> 1\u001b[0;31m \u001b[0mdato\u001b[0m \u001b[0;34m=\u001b[0m \u001b[0mint\u001b[0m\u001b[0;34m(\u001b[0m\u001b[0minput\u001b[0m\u001b[0;34m(\u001b[0m\u001b[0;34m'Ingresa un numero entero: '\u001b[0m\u001b[0;34m)\u001b[0m\u001b[0;34m)\u001b[0m\u001b[0;34m\u001b[0m\u001b[0;34m\u001b[0m\u001b[0m\n\u001b[0m\u001b[1;32m      2\u001b[0m \u001b[0;34m\u001b[0m\u001b[0m\n\u001b[1;32m      3\u001b[0m \u001b[0mfactorial\u001b[0m \u001b[0;34m=\u001b[0m \u001b[0;36m1\u001b[0m\u001b[0;34m\u001b[0m\u001b[0;34m\u001b[0m\u001b[0m\n\u001b[1;32m      4\u001b[0m \u001b[0;34m\u001b[0m\u001b[0m\n\u001b[1;32m      5\u001b[0m \u001b[0;32mfor\u001b[0m \u001b[0mi\u001b[0m \u001b[0;32min\u001b[0m \u001b[0mrange\u001b[0m\u001b[0;34m(\u001b[0m\u001b[0;36m1\u001b[0m\u001b[0;34m,\u001b[0m \u001b[0mdato\u001b[0m \u001b[0;34m+\u001b[0m \u001b[0;36m1\u001b[0m \u001b[0;34m)\u001b[0m\u001b[0;34m:\u001b[0m\u001b[0;34m\u001b[0m\u001b[0;34m\u001b[0m\u001b[0m\n",
            "\u001b[0;31mTypeError\u001b[0m: 'list' object is not callable"
          ]
        }
      ]
    },
    {
      "cell_type": "markdown",
      "source": [
        "##<font color='8EC044'> **Ejercicio 7** </font>\n",
        "\n",
        "Desarrolle un programa que generé los primeros diez números que son divisible por 2 y 3. Es decir, resultado = [6, 12, 18, ...]\n",
        "\n"
      ],
      "metadata": {
        "id": "rD1xDfM-uUVh"
      }
    },
    {
      "cell_type": "code",
      "source": [
        "# Lista vacia para almacenar los resultados\n",
        "resultados = []\n",
        "\n",
        "# Usamos un for para encontrar los primeros diez números\n",
        "for i in range(1, 200):  # Rango amplio para asegurarnos de encontrar suficientes números\n",
        "    if i % 2 == 0 and i % 3 == 0:\n",
        "        resultados.append(i)\n",
        "    if len(resultados) == 10:  # Rompemos el ciclo cuando tenemos 10 números\n",
        "        break\n",
        "\n",
        "print(resultados)\n"
      ],
      "metadata": {
        "colab": {
          "base_uri": "https://localhost:8080/"
        },
        "id": "zlNCClogugn6",
        "outputId": "5f42dfaa-7036-496d-a802-f03bdab693b4"
      },
      "execution_count": null,
      "outputs": [
        {
          "output_type": "stream",
          "name": "stdout",
          "text": [
            "[6, 12, 18, 24, 30, 36, 42, 48, 54, 60]\n"
          ]
        }
      ]
    },
    {
      "cell_type": "markdown",
      "source": [
        "# <font color='056938'> **Funciones** </font>\n",
        "\n",
        "Las funciones son un concepto en programación que permite reutilizar código y construir programas modulares para facilitar su organización y el trabajo en equipo.\n",
        "\n",
        "\n",
        "Un codigo que vamos a diseñar y lo vamos a llevar a un modulo de una función para utilizarlo posteriormente"
      ],
      "metadata": {
        "id": "XmzHogYDPnN4"
      }
    },
    {
      "cell_type": "markdown",
      "source": [
        "##  <font color='056938'> **Introducción** </font>\n",
        "Existen programas que realizan una misma tarea repetidamente en diferentes partes del programa, por ejemplo, calcular un promedio puede necesitarse en varias partes. La primera solución intuitiva es copiar y pegar el código que se requiere repetidamente, sin embargo aparecen varios inconvenientes al hacerlo:\n",
        "\n",
        "Los nombres de las variables deberán cambiarse para ajustarse a los nombres usados en la parte del programa donde se quiere reutilizar el código.\n",
        "Si luego de haber reutilizado el código en varios lugares del programa se quiere hacer algún cambio en el algoritmo reutilizado, será necesario aplicar el cambio en todos los lugares donde se reutilizó.\n",
        "\n",
        "Debido a estos problemas aparece un paradigma en programación llamado funciones debido a la necesidad de reutilizar un segmento de un programa que se necesita en otra parte del mismo.\n",
        "\n",
        "Una **función**  requeire la definición de tres conceptos básicos:\n",
        "\n",
        "* El nombre\n",
        "* Las entradas y salidas\n",
        "* El segmento de código que formará el cuerpo de la función\n",
        "\n",
        "Las funciones son, a veces, llamadas también subrutinas o subprogramas y están presentes en casi todos los lenguajes de programación."
      ],
      "metadata": {
        "id": "RE6ghZ7cP9mv"
      }
    },
    {
      "cell_type": "markdown",
      "source": [
        "##  <font color='056938'> **EJEMPLO** </font>  Utilizando una función y adentro un ciclo"
      ],
      "metadata": {
        "id": "59lwWQroXMeQ"
      }
    },
    {
      "cell_type": "code",
      "source": [
        "def name2ascii():\n",
        "    name = input('Ingresa tu nombre: ')\n",
        "    print('Tu nombre es: ', name)\n",
        "    print('Los códigos ASCII de tu nombre son:')\n",
        "    for c in name:\n",
        "        print(ord(c), end=' ')"
      ],
      "metadata": {
        "id": "Vjk-UbVnQBCv"
      },
      "execution_count": null,
      "outputs": []
    },
    {
      "cell_type": "code",
      "source": [
        "prueba = name2ascii()"
      ],
      "metadata": {
        "colab": {
          "base_uri": "https://localhost:8080/"
        },
        "id": "pOuhP4YMW4LY",
        "outputId": "401f5795-9167-443d-f7ec-174aef318c99"
      },
      "execution_count": null,
      "outputs": [
        {
          "output_type": "stream",
          "name": "stdout",
          "text": [
            "Ingresa tu nombre: Daniel\n",
            "Tu nombre es:  Daniel\n",
            "Los códigos ASCII de tu nombre son:\n",
            "68 97 110 105 101 108 "
          ]
        }
      ]
    },
    {
      "cell_type": "code",
      "source": [
        "from re import I\n",
        "def faltorial(x):\n",
        "  int(x)\n",
        "  if x < 0:\n",
        "    raise ValueError(\"El numero debe ser entero positivo\")\n",
        "\n",
        "import sys\n",
        "factorial = 1\n",
        "contado = 0\n",
        "\n",
        "for i in range(1, x + 1):\n",
        "  factorial*= i\n",
        "  contador += 0\n",
        "  if factorial > sys.maxsize:\n",
        "    return(\"El valor sobrepasa el tamaño maximo\")\n",
        "    else\n",
        "    break\n",
        "\n"
      ],
      "metadata": {
        "colab": {
          "base_uri": "https://localhost:8080/",
          "height": 106
        },
        "id": "0OfpuZROXihJ",
        "outputId": "01989c38-3dbc-45c5-b7f7-f63e64ed5559"
      },
      "execution_count": null,
      "outputs": [
        {
          "output_type": "error",
          "ename": "SyntaxError",
          "evalue": "'return' outside function (<ipython-input-6-1233651d4b5e>, line 15)",
          "traceback": [
            "\u001b[0;36m  File \u001b[0;32m\"<ipython-input-6-1233651d4b5e>\"\u001b[0;36m, line \u001b[0;32m15\u001b[0m\n\u001b[0;31m    return(\"El valor sobrepasa el tamaño maximo\")\u001b[0m\n\u001b[0m    ^\u001b[0m\n\u001b[0;31mSyntaxError\u001b[0m\u001b[0;31m:\u001b[0m 'return' outside function\n"
          ]
        }
      ]
    },
    {
      "cell_type": "markdown",
      "source": [
        "Ejemplo 1\n",
        "\n",
        "Calltype"
      ],
      "metadata": {
        "id": "gPSVka0WbsfQ"
      }
    },
    {
      "cell_type": "code",
      "source": [
        "def calltype(pn):\n",
        "    pn=str(pn)\n",
        "    if pn[0:2]=='00' and len(pn)>4:\n",
        "        return 'llamada internacional ' + pn\n",
        "    elif pn[0:2]=='60' and len(pn)==10:\n",
        "        return 'llamada a fijo nacional ' + pn\n",
        "    elif pn[0]=='3' and len(pn)==10:\n",
        "        return 'llamada a celular nacional ' + pn\n",
        "    else:\n",
        "        return 'Error'\n"
      ],
      "metadata": {
        "id": "QE48RFZlbu4g"
      },
      "execution_count": null,
      "outputs": []
    },
    {
      "cell_type": "markdown",
      "source": [
        "Las funciones son fronteras naturales, ese limite que nos dice hasta donde va un codigo y donde empieza un codigo diferente. Es importante también comentar las funciones para especificar para que sirven o que función cumplen dentrom del codigo programado.\n",
        "\n",
        "Ejemplo 2\n",
        "La función oldest recibe dos cadenas de caracteres que contienen fechas en el formato DD-MM-AAAA y retorna la fecha más antigua, como se indica en su especificación. El programa principal le pide dos fechas al usuario y le muestra la más vieja."
      ],
      "metadata": {
        "id": "6ZaY6RvwhDUP"
      }
    },
    {
      "cell_type": "code",
      "source": [
        "def oldest(d1, d2):\n",
        "    '''Recibe dos cadenas de caracteres con fechas en formato DD-MM-AAAA,\n",
        "    retorna la fecha más vieja.'''\n",
        "    d1_num = int(d1[6:]+d1[3:5]+d1[:2])\n",
        "    d2_num = int(d2[6:]+d2[3:5]+d2[:2])\n",
        "    if d1_num < d2_num:\n",
        "        return d1\n",
        "    else:\n",
        "        return d2\n",
        "\n",
        "a = input('Ingrese una fecha en formato DD-MM-AAAA: ')\n",
        "b = input('Ingrese otra fecha en formato DD-MM-AAAA: ')\n",
        "print('La fecha ' + oldest(a, b) + ' es la más vieja')"
      ],
      "metadata": {
        "colab": {
          "base_uri": "https://localhost:8080/"
        },
        "id": "pGHWPwrchTAZ",
        "outputId": "ab7b1c5a-ba18-43d3-ead2-59adfacceff6"
      },
      "execution_count": null,
      "outputs": [
        {
          "output_type": "stream",
          "name": "stdout",
          "text": [
            "Ingrese una fecha en formato DD-MM-AAAA: 23-02-1998\n",
            "Ingrese otra fecha en formato DD-MM-AAAA: 09-11-1994\n",
            "La fecha 09-11-1994 es la más vieja\n"
          ]
        }
      ]
    },
    {
      "cell_type": "markdown",
      "source": [
        "Reto: Intente realizar la funcion anterior, usando la libreria datetime .\n",
        "\n",
        "Buscar el algoritmo de euclides"
      ],
      "metadata": {
        "id": "BGJu87FLi7DN"
      }
    },
    {
      "cell_type": "markdown",
      "source": [
        "Diseñe una función que dadod dos numeros a y b retorne el maximo comun divisor de los dos numeros"
      ],
      "metadata": {
        "id": "STmbD8e3w5AP"
      }
    },
    {
      "cell_type": "code",
      "source": [
        "def mcd(a, b):\n",
        "    while b != 0:\n",
        "        a, b = b, a % b\n",
        "    return abs(a)  # Devuelve el valor absoluto del MCD\n",
        "\n",
        "# Ejemplo de uso\n",
        "print(mcd(48, 18))  # Salida: 6\n",
        "print(mcd(56, 98))  # Salida: 14\n"
      ],
      "metadata": {
        "colab": {
          "base_uri": "https://localhost:8080/"
        },
        "id": "CvqjS7ZDxiYq",
        "outputId": "a27915d5-35d4-4d3e-b422-5e78577131be"
      },
      "execution_count": null,
      "outputs": [
        {
          "output_type": "stream",
          "name": "stdout",
          "text": [
            "6\n",
            "14\n"
          ]
        }
      ]
    },
    {
      "cell_type": "code",
      "source": [
        "def obtener_iniciales(nombre, apellido, sentido):\n",
        "    # Obtener la inicial del nombre y del apellido\n",
        "    inicial_nombre = nombre[0].upper()  # Convertir a mayúscula\n",
        "    inicial_apellido = apellido[0].upper()  # Convertir a mayúscula\n",
        "\n",
        "    # Retornar las iniciales según el sentido indicado\n",
        "    if sentido:\n",
        "        return f\"{inicial_nombre}.{inicial_apellido}\"\n",
        "    else:\n",
        "        return f\"{inicial_apellido}.{inicial_nombre}\"\n",
        "\n",
        "# Ejemplo de uso\n",
        "print(obtener_iniciales(\"Andrés\", \"Duque\", True))  # Salida: A.D\n",
        "print(obtener_iniciales(\"Andrés\", \"Duque\", False))  # Salida: D.A\n"
      ],
      "metadata": {
        "colab": {
          "base_uri": "https://localhost:8080/"
        },
        "id": "iqjLSNqGyNHM",
        "outputId": "54349320-7428-4a4d-fca7-c2d91853a8ae"
      },
      "execution_count": null,
      "outputs": [
        {
          "output_type": "stream",
          "name": "stdout",
          "text": [
            "A.D\n",
            "D.A\n"
          ]
        }
      ]
    }
  ],
  "metadata": {
    "colab": {
      "provenance": [],
      "authorship_tag": "ABX9TyMeZxnhESr8Ywfqt/95XogU",
      "include_colab_link": true
    },
    "kernelspec": {
      "display_name": "Python 3",
      "name": "python3"
    },
    "language_info": {
      "name": "python"
    }
  },
  "nbformat": 4,
  "nbformat_minor": 0
}